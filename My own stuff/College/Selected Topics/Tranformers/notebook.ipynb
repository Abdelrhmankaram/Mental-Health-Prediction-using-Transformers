{
 "cells": [
  {
   "cell_type": "markdown",
   "id": "26777c23",
   "metadata": {
    "_cell_guid": "b1076dfc-b9ad-4769-8c92-a6c4dae69d19",
    "_uuid": "8f2839f25d086af736a60e9eeb907d3b93b6e0e5",
    "papermill": {
     "duration": 0.006033,
     "end_time": "2025-05-02T21:43:52.768655",
     "exception": false,
     "start_time": "2025-05-02T21:43:52.762622",
     "status": "completed"
    },
    "tags": []
   },
   "source": [
    "**<div style=\"font-size:25px; color: #4d81b0;\">Importing Libraries</div>**"
   ]
  },
  {
   "cell_type": "code",
   "execution_count": 1,
   "id": "7bfd3658",
   "metadata": {
    "_kg_hide-output": true,
    "execution": {
     "iopub.execute_input": "2025-05-02T21:43:52.780600Z",
     "iopub.status.busy": "2025-05-02T21:43:52.780318Z",
     "iopub.status.idle": "2025-05-02T21:43:59.178078Z",
     "shell.execute_reply": "2025-05-02T21:43:59.177186Z"
    },
    "papermill": {
     "duration": 6.405116,
     "end_time": "2025-05-02T21:43:59.179364",
     "exception": false,
     "start_time": "2025-05-02T21:43:52.774248",
     "status": "completed"
    },
    "tags": []
   },
   "outputs": [
    {
     "name": "stdout",
     "output_type": "stream",
     "text": [
      "Collecting nlpaug\r\n",
      "  Downloading nlpaug-1.1.11-py3-none-any.whl.metadata (14 kB)\r\n",
      "Requirement already satisfied: numpy>=1.16.2 in /usr/local/lib/python3.11/dist-packages (from nlpaug) (1.26.4)\r\n",
      "Requirement already satisfied: pandas>=1.2.0 in /usr/local/lib/python3.11/dist-packages (from nlpaug) (2.2.3)\r\n",
      "Requirement already satisfied: requests>=2.22.0 in /usr/local/lib/python3.11/dist-packages (from nlpaug) (2.32.3)\r\n",
      "Requirement already satisfied: gdown>=4.0.0 in /usr/local/lib/python3.11/dist-packages (from nlpaug) (5.2.0)\r\n",
      "Requirement already satisfied: beautifulsoup4 in /usr/local/lib/python3.11/dist-packages (from gdown>=4.0.0->nlpaug) (4.13.3)\r\n",
      "Requirement already satisfied: filelock in /usr/local/lib/python3.11/dist-packages (from gdown>=4.0.0->nlpaug) (3.18.0)\r\n",
      "Requirement already satisfied: tqdm in /usr/local/lib/python3.11/dist-packages (from gdown>=4.0.0->nlpaug) (4.67.1)\r\n",
      "Requirement already satisfied: mkl_fft in /usr/local/lib/python3.11/dist-packages (from numpy>=1.16.2->nlpaug) (1.3.8)\r\n",
      "Requirement already satisfied: mkl_random in /usr/local/lib/python3.11/dist-packages (from numpy>=1.16.2->nlpaug) (1.2.4)\r\n",
      "Requirement already satisfied: mkl_umath in /usr/local/lib/python3.11/dist-packages (from numpy>=1.16.2->nlpaug) (0.1.1)\r\n",
      "Requirement already satisfied: mkl in /usr/local/lib/python3.11/dist-packages (from numpy>=1.16.2->nlpaug) (2025.1.0)\r\n",
      "Requirement already satisfied: tbb4py in /usr/local/lib/python3.11/dist-packages (from numpy>=1.16.2->nlpaug) (2022.1.0)\r\n",
      "Requirement already satisfied: mkl-service in /usr/local/lib/python3.11/dist-packages (from numpy>=1.16.2->nlpaug) (2.4.1)\r\n",
      "Requirement already satisfied: python-dateutil>=2.8.2 in /usr/local/lib/python3.11/dist-packages (from pandas>=1.2.0->nlpaug) (2.9.0.post0)\r\n",
      "Requirement already satisfied: pytz>=2020.1 in /usr/local/lib/python3.11/dist-packages (from pandas>=1.2.0->nlpaug) (2025.2)\r\n",
      "Requirement already satisfied: tzdata>=2022.7 in /usr/local/lib/python3.11/dist-packages (from pandas>=1.2.0->nlpaug) (2025.2)\r\n",
      "Requirement already satisfied: charset-normalizer<4,>=2 in /usr/local/lib/python3.11/dist-packages (from requests>=2.22.0->nlpaug) (3.4.1)\r\n",
      "Requirement already satisfied: idna<4,>=2.5 in /usr/local/lib/python3.11/dist-packages (from requests>=2.22.0->nlpaug) (3.10)\r\n",
      "Requirement already satisfied: urllib3<3,>=1.21.1 in /usr/local/lib/python3.11/dist-packages (from requests>=2.22.0->nlpaug) (2.3.0)\r\n",
      "Requirement already satisfied: certifi>=2017.4.17 in /usr/local/lib/python3.11/dist-packages (from requests>=2.22.0->nlpaug) (2025.1.31)\r\n",
      "Requirement already satisfied: six>=1.5 in /usr/local/lib/python3.11/dist-packages (from python-dateutil>=2.8.2->pandas>=1.2.0->nlpaug) (1.17.0)\r\n",
      "Requirement already satisfied: soupsieve>1.2 in /usr/local/lib/python3.11/dist-packages (from beautifulsoup4->gdown>=4.0.0->nlpaug) (2.6)\r\n",
      "Requirement already satisfied: typing-extensions>=4.0.0 in /usr/local/lib/python3.11/dist-packages (from beautifulsoup4->gdown>=4.0.0->nlpaug) (4.13.1)\r\n",
      "Requirement already satisfied: intel-openmp<2026,>=2024 in /usr/local/lib/python3.11/dist-packages (from mkl->numpy>=1.16.2->nlpaug) (2024.2.0)\r\n",
      "Requirement already satisfied: tbb==2022.* in /usr/local/lib/python3.11/dist-packages (from mkl->numpy>=1.16.2->nlpaug) (2022.1.0)\r\n",
      "Requirement already satisfied: tcmlib==1.* in /usr/local/lib/python3.11/dist-packages (from tbb==2022.*->mkl->numpy>=1.16.2->nlpaug) (1.2.0)\r\n",
      "Requirement already satisfied: intel-cmplr-lib-rt in /usr/local/lib/python3.11/dist-packages (from mkl_umath->numpy>=1.16.2->nlpaug) (2024.2.0)\r\n",
      "Requirement already satisfied: PySocks!=1.5.7,>=1.5.6 in /usr/local/lib/python3.11/dist-packages (from requests[socks]->gdown>=4.0.0->nlpaug) (1.7.1)\r\n",
      "Requirement already satisfied: intel-cmplr-lib-ur==2024.2.0 in /usr/local/lib/python3.11/dist-packages (from intel-openmp<2026,>=2024->mkl->numpy>=1.16.2->nlpaug) (2024.2.0)\r\n",
      "Downloading nlpaug-1.1.11-py3-none-any.whl (410 kB)\r\n",
      "\u001b[2K   \u001b[90m━━━━━━━━━━━━━━━━━━━━━━━━━━━━━━━━━━━━━━━━\u001b[0m \u001b[32m410.5/410.5 kB\u001b[0m \u001b[31m6.3 MB/s\u001b[0m eta \u001b[36m0:00:00\u001b[0m\r\n",
      "\u001b[?25hInstalling collected packages: nlpaug\r\n",
      "Successfully installed nlpaug-1.1.11\r\n",
      "Note: you may need to restart the kernel to use updated packages.\n"
     ]
    }
   ],
   "source": [
    "pip install nlpaug"
   ]
  },
  {
   "cell_type": "code",
   "execution_count": 2,
   "id": "1fad8ee4",
   "metadata": {
    "execution": {
     "iopub.execute_input": "2025-05-02T21:43:59.193126Z",
     "iopub.status.busy": "2025-05-02T21:43:59.192585Z",
     "iopub.status.idle": "2025-05-02T21:45:11.931523Z",
     "shell.execute_reply": "2025-05-02T21:45:11.930542Z"
    },
    "papermill": {
     "duration": 72.746968,
     "end_time": "2025-05-02T21:45:11.932773",
     "exception": false,
     "start_time": "2025-05-02T21:43:59.185805",
     "status": "completed"
    },
    "tags": []
   },
   "outputs": [
    {
     "name": "stderr",
     "output_type": "stream",
     "text": [
      "2025-05-02 21:44:48.854870: E external/local_xla/xla/stream_executor/cuda/cuda_fft.cc:477] Unable to register cuFFT factory: Attempting to register factory for plugin cuFFT when one has already been registered\n",
      "WARNING: All log messages before absl::InitializeLog() is called are written to STDERR\n",
      "E0000 00:00:1746222289.302515      19 cuda_dnn.cc:8310] Unable to register cuDNN factory: Attempting to register factory for plugin cuDNN when one has already been registered\n",
      "E0000 00:00:1746222289.427852      19 cuda_blas.cc:1418] Unable to register cuBLAS factory: Attempting to register factory for plugin cuBLAS when one has already been registered\n",
      "[nltk_data] Downloading package averaged_perceptron_tagger_eng to\n",
      "[nltk_data]     /usr/share/nltk_data...\n",
      "[nltk_data]   Unzipping taggers/averaged_perceptron_tagger_eng.zip.\n"
     ]
    }
   ],
   "source": [
    "import pandas as pd\n",
    "import numpy as np\n",
    "import matplotlib.pyplot as plt\n",
    "import seaborn as sns\n",
    "import nlpaug.augmenter.word as naw\n",
    "import os\n",
    "import re\n",
    "from string import punctuation\n",
    "from nltk.corpus import stopwords\n",
    "from nltk.stem import PorterStemmer, WordNetLemmatizer\n",
    "from nltk.tokenize import word_tokenize, sent_tokenize\n",
    "from transformers import BertTokenizer, TFBertForSequenceClassification\n",
    "from sklearn.model_selection import train_test_split\n",
    "from sklearn.preprocessing import LabelEncoder\n",
    "from transformers import BertForSequenceClassification, TrainingArguments, Trainer\n",
    "from datasets import Dataset\n",
    "import tensorflow as tf\n",
    "from torch import nn\n",
    "label_encoder = LabelEncoder()\n",
    "aug = naw.SynonymAug(aug_src='wordnet')\n",
    "import nltk\n",
    "nltk.download('averaged_perceptron_tagger_eng')\n",
    "\n",
    "plt.style.use('ggplot')\n",
    "import warnings \n",
    "warnings.filterwarnings('ignore')"
   ]
  },
  {
   "cell_type": "code",
   "execution_count": 3,
   "id": "3ee35084",
   "metadata": {
    "execution": {
     "iopub.execute_input": "2025-05-02T21:45:11.946151Z",
     "iopub.status.busy": "2025-05-02T21:45:11.945354Z",
     "iopub.status.idle": "2025-05-02T21:45:12.736826Z",
     "shell.execute_reply": "2025-05-02T21:45:12.736083Z"
    },
    "papermill": {
     "duration": 0.799061,
     "end_time": "2025-05-02T21:45:12.737984",
     "exception": false,
     "start_time": "2025-05-02T21:45:11.938923",
     "status": "completed"
    },
    "tags": []
   },
   "outputs": [
    {
     "data": {
      "text/html": [
       "<div>\n",
       "<style scoped>\n",
       "    .dataframe tbody tr th:only-of-type {\n",
       "        vertical-align: middle;\n",
       "    }\n",
       "\n",
       "    .dataframe tbody tr th {\n",
       "        vertical-align: top;\n",
       "    }\n",
       "\n",
       "    .dataframe thead th {\n",
       "        text-align: right;\n",
       "    }\n",
       "</style>\n",
       "<table border=\"1\" class=\"dataframe\">\n",
       "  <thead>\n",
       "    <tr style=\"text-align: right;\">\n",
       "      <th></th>\n",
       "      <th>Unnamed: 0</th>\n",
       "      <th>statement</th>\n",
       "      <th>status</th>\n",
       "    </tr>\n",
       "  </thead>\n",
       "  <tbody>\n",
       "    <tr>\n",
       "      <th>0</th>\n",
       "      <td>0</td>\n",
       "      <td>oh my gosh</td>\n",
       "      <td>Anxiety</td>\n",
       "    </tr>\n",
       "    <tr>\n",
       "      <th>1</th>\n",
       "      <td>1</td>\n",
       "      <td>trouble sleeping, confused mind, restless hear...</td>\n",
       "      <td>Anxiety</td>\n",
       "    </tr>\n",
       "    <tr>\n",
       "      <th>2</th>\n",
       "      <td>2</td>\n",
       "      <td>All wrong, back off dear, forward doubt. Stay ...</td>\n",
       "      <td>Anxiety</td>\n",
       "    </tr>\n",
       "    <tr>\n",
       "      <th>3</th>\n",
       "      <td>3</td>\n",
       "      <td>I've shifted my focus to something else but I'...</td>\n",
       "      <td>Anxiety</td>\n",
       "    </tr>\n",
       "    <tr>\n",
       "      <th>4</th>\n",
       "      <td>4</td>\n",
       "      <td>I'm restless and restless, it's been a month n...</td>\n",
       "      <td>Anxiety</td>\n",
       "    </tr>\n",
       "  </tbody>\n",
       "</table>\n",
       "</div>"
      ],
      "text/plain": [
       "   Unnamed: 0                                          statement   status\n",
       "0           0                                         oh my gosh  Anxiety\n",
       "1           1  trouble sleeping, confused mind, restless hear...  Anxiety\n",
       "2           2  All wrong, back off dear, forward doubt. Stay ...  Anxiety\n",
       "3           3  I've shifted my focus to something else but I'...  Anxiety\n",
       "4           4  I'm restless and restless, it's been a month n...  Anxiety"
      ]
     },
     "execution_count": 3,
     "metadata": {},
     "output_type": "execute_result"
    }
   ],
   "source": [
    "data = pd.read_csv('/kaggle/input/sentiment-analysis-for-mental-health/Combined Data.csv')\n",
    "data.head()"
   ]
  },
  {
   "cell_type": "code",
   "execution_count": 4,
   "id": "e54c247b",
   "metadata": {
    "execution": {
     "iopub.execute_input": "2025-05-02T21:45:12.752384Z",
     "iopub.status.busy": "2025-05-02T21:45:12.752150Z",
     "iopub.status.idle": "2025-05-02T21:45:12.786390Z",
     "shell.execute_reply": "2025-05-02T21:45:12.785562Z"
    },
    "papermill": {
     "duration": 0.042661,
     "end_time": "2025-05-02T21:45:12.787600",
     "exception": false,
     "start_time": "2025-05-02T21:45:12.744939",
     "status": "completed"
    },
    "tags": []
   },
   "outputs": [
    {
     "name": "stdout",
     "output_type": "stream",
     "text": [
      "<class 'pandas.core.frame.DataFrame'>\n",
      "RangeIndex: 53043 entries, 0 to 53042\n",
      "Data columns (total 3 columns):\n",
      " #   Column      Non-Null Count  Dtype \n",
      "---  ------      --------------  ----- \n",
      " 0   Unnamed: 0  53043 non-null  int64 \n",
      " 1   statement   52681 non-null  object\n",
      " 2   status      53043 non-null  object\n",
      "dtypes: int64(1), object(2)\n",
      "memory usage: 1.2+ MB\n"
     ]
    }
   ],
   "source": [
    "data.info()"
   ]
  },
  {
   "cell_type": "code",
   "execution_count": 5,
   "id": "a80ed372",
   "metadata": {
    "execution": {
     "iopub.execute_input": "2025-05-02T21:45:12.800633Z",
     "iopub.status.busy": "2025-05-02T21:45:12.800283Z",
     "iopub.status.idle": "2025-05-02T21:45:12.810763Z",
     "shell.execute_reply": "2025-05-02T21:45:12.810159Z"
    },
    "papermill": {
     "duration": 0.018065,
     "end_time": "2025-05-02T21:45:12.811826",
     "exception": false,
     "start_time": "2025-05-02T21:45:12.793761",
     "status": "completed"
    },
    "tags": []
   },
   "outputs": [
    {
     "data": {
      "text/html": [
       "<div>\n",
       "<style scoped>\n",
       "    .dataframe tbody tr th:only-of-type {\n",
       "        vertical-align: middle;\n",
       "    }\n",
       "\n",
       "    .dataframe tbody tr th {\n",
       "        vertical-align: top;\n",
       "    }\n",
       "\n",
       "    .dataframe thead th {\n",
       "        text-align: right;\n",
       "    }\n",
       "</style>\n",
       "<table border=\"1\" class=\"dataframe\">\n",
       "  <thead>\n",
       "    <tr style=\"text-align: right;\">\n",
       "      <th></th>\n",
       "      <th>statement</th>\n",
       "      <th>status</th>\n",
       "    </tr>\n",
       "  </thead>\n",
       "  <tbody>\n",
       "    <tr>\n",
       "      <th>0</th>\n",
       "      <td>oh my gosh</td>\n",
       "      <td>Anxiety</td>\n",
       "    </tr>\n",
       "    <tr>\n",
       "      <th>1</th>\n",
       "      <td>trouble sleeping, confused mind, restless hear...</td>\n",
       "      <td>Anxiety</td>\n",
       "    </tr>\n",
       "    <tr>\n",
       "      <th>2</th>\n",
       "      <td>All wrong, back off dear, forward doubt. Stay ...</td>\n",
       "      <td>Anxiety</td>\n",
       "    </tr>\n",
       "    <tr>\n",
       "      <th>3</th>\n",
       "      <td>I've shifted my focus to something else but I'...</td>\n",
       "      <td>Anxiety</td>\n",
       "    </tr>\n",
       "    <tr>\n",
       "      <th>4</th>\n",
       "      <td>I'm restless and restless, it's been a month n...</td>\n",
       "      <td>Anxiety</td>\n",
       "    </tr>\n",
       "  </tbody>\n",
       "</table>\n",
       "</div>"
      ],
      "text/plain": [
       "                                           statement   status\n",
       "0                                         oh my gosh  Anxiety\n",
       "1  trouble sleeping, confused mind, restless hear...  Anxiety\n",
       "2  All wrong, back off dear, forward doubt. Stay ...  Anxiety\n",
       "3  I've shifted my focus to something else but I'...  Anxiety\n",
       "4  I'm restless and restless, it's been a month n...  Anxiety"
      ]
     },
     "execution_count": 5,
     "metadata": {},
     "output_type": "execute_result"
    }
   ],
   "source": [
    "data.drop(columns=['Unnamed: 0'], inplace=True)\n",
    "data.head()"
   ]
  },
  {
   "cell_type": "markdown",
   "id": "0b1505ef",
   "metadata": {
    "papermill": {
     "duration": 0.005776,
     "end_time": "2025-05-02T21:45:12.823557",
     "exception": false,
     "start_time": "2025-05-02T21:45:12.817781",
     "status": "completed"
    },
    "tags": []
   },
   "source": [
    "**<div style=\"font-size:25px; color: #4d81b0;\">Data Cleaning</div>**"
   ]
  },
  {
   "cell_type": "code",
   "execution_count": 6,
   "id": "4d9cac09",
   "metadata": {
    "execution": {
     "iopub.execute_input": "2025-05-02T21:45:12.835979Z",
     "iopub.status.busy": "2025-05-02T21:45:12.835773Z",
     "iopub.status.idle": "2025-05-02T21:45:12.843694Z",
     "shell.execute_reply": "2025-05-02T21:45:12.843113Z"
    },
    "papermill": {
     "duration": 0.015374,
     "end_time": "2025-05-02T21:45:12.844751",
     "exception": false,
     "start_time": "2025-05-02T21:45:12.829377",
     "status": "completed"
    },
    "tags": []
   },
   "outputs": [
    {
     "data": {
      "text/plain": [
       "status\n",
       "Normal                  16351\n",
       "Depression              15404\n",
       "Suicidal                10653\n",
       "Anxiety                  3888\n",
       "Bipolar                  2877\n",
       "Stress                   2669\n",
       "Personality disorder     1201\n",
       "Name: count, dtype: int64"
      ]
     },
     "execution_count": 6,
     "metadata": {},
     "output_type": "execute_result"
    }
   ],
   "source": [
    "data['status'].value_counts()"
   ]
  },
  {
   "cell_type": "code",
   "execution_count": 7,
   "id": "72fb6c1f",
   "metadata": {
    "execution": {
     "iopub.execute_input": "2025-05-02T21:45:12.857591Z",
     "iopub.status.busy": "2025-05-02T21:45:12.857352Z",
     "iopub.status.idle": "2025-05-02T21:45:12.867599Z",
     "shell.execute_reply": "2025-05-02T21:45:12.867034Z"
    },
    "papermill": {
     "duration": 0.017924,
     "end_time": "2025-05-02T21:45:12.868653",
     "exception": false,
     "start_time": "2025-05-02T21:45:12.850729",
     "status": "completed"
    },
    "tags": []
   },
   "outputs": [
    {
     "data": {
      "text/plain": [
       "statement    362\n",
       "status         0\n",
       "dtype: int64"
      ]
     },
     "execution_count": 7,
     "metadata": {},
     "output_type": "execute_result"
    }
   ],
   "source": [
    "data.isnull().sum()"
   ]
  },
  {
   "cell_type": "code",
   "execution_count": 8,
   "id": "415c5110",
   "metadata": {
    "execution": {
     "iopub.execute_input": "2025-05-02T21:45:12.881820Z",
     "iopub.status.busy": "2025-05-02T21:45:12.881601Z",
     "iopub.status.idle": "2025-05-02T21:45:12.892538Z",
     "shell.execute_reply": "2025-05-02T21:45:12.891977Z"
    },
    "papermill": {
     "duration": 0.018816,
     "end_time": "2025-05-02T21:45:12.893603",
     "exception": false,
     "start_time": "2025-05-02T21:45:12.874787",
     "status": "completed"
    },
    "tags": []
   },
   "outputs": [],
   "source": [
    "data.dropna(inplace=True)"
   ]
  },
  {
   "cell_type": "code",
   "execution_count": 9,
   "id": "7083dd48",
   "metadata": {
    "execution": {
     "iopub.execute_input": "2025-05-02T21:45:12.906831Z",
     "iopub.status.busy": "2025-05-02T21:45:12.906606Z",
     "iopub.status.idle": "2025-05-02T21:45:12.990953Z",
     "shell.execute_reply": "2025-05-02T21:45:12.990335Z"
    },
    "papermill": {
     "duration": 0.092438,
     "end_time": "2025-05-02T21:45:12.992110",
     "exception": false,
     "start_time": "2025-05-02T21:45:12.899672",
     "status": "completed"
    },
    "tags": []
   },
   "outputs": [
    {
     "data": {
      "text/plain": [
       "1588"
      ]
     },
     "execution_count": 9,
     "metadata": {},
     "output_type": "execute_result"
    }
   ],
   "source": [
    "data.duplicated().sum()"
   ]
  },
  {
   "cell_type": "code",
   "execution_count": 10,
   "id": "c4e82224",
   "metadata": {
    "execution": {
     "iopub.execute_input": "2025-05-02T21:45:13.006116Z",
     "iopub.status.busy": "2025-05-02T21:45:13.005910Z",
     "iopub.status.idle": "2025-05-02T21:45:13.079703Z",
     "shell.execute_reply": "2025-05-02T21:45:13.079149Z"
    },
    "papermill": {
     "duration": 0.081632,
     "end_time": "2025-05-02T21:45:13.080841",
     "exception": false,
     "start_time": "2025-05-02T21:45:12.999209",
     "status": "completed"
    },
    "tags": []
   },
   "outputs": [],
   "source": [
    "data.drop_duplicates(inplace = True)"
   ]
  },
  {
   "cell_type": "code",
   "execution_count": 11,
   "id": "620a9db3",
   "metadata": {
    "execution": {
     "iopub.execute_input": "2025-05-02T21:45:13.094202Z",
     "iopub.status.busy": "2025-05-02T21:45:13.093736Z",
     "iopub.status.idle": "2025-05-02T21:45:13.101206Z",
     "shell.execute_reply": "2025-05-02T21:45:13.100564Z"
    },
    "papermill": {
     "duration": 0.015392,
     "end_time": "2025-05-02T21:45:13.102339",
     "exception": false,
     "start_time": "2025-05-02T21:45:13.086947",
     "status": "completed"
    },
    "tags": []
   },
   "outputs": [
    {
     "data": {
      "text/plain": [
       "status\n",
       "Normal                  16040\n",
       "Depression              15094\n",
       "Suicidal                10644\n",
       "Anxiety                  3623\n",
       "Bipolar                  2501\n",
       "Stress                   2296\n",
       "Personality disorder      895\n",
       "Name: count, dtype: int64"
      ]
     },
     "execution_count": 11,
     "metadata": {},
     "output_type": "execute_result"
    }
   ],
   "source": [
    "data['status'].value_counts()"
   ]
  },
  {
   "cell_type": "code",
   "execution_count": 12,
   "id": "a48adfd2",
   "metadata": {
    "execution": {
     "iopub.execute_input": "2025-05-02T21:45:13.116093Z",
     "iopub.status.busy": "2025-05-02T21:45:13.115612Z",
     "iopub.status.idle": "2025-05-02T21:45:13.124040Z",
     "shell.execute_reply": "2025-05-02T21:45:13.123547Z"
    },
    "papermill": {
     "duration": 0.016587,
     "end_time": "2025-05-02T21:45:13.125116",
     "exception": false,
     "start_time": "2025-05-02T21:45:13.108529",
     "status": "completed"
    },
    "tags": []
   },
   "outputs": [],
   "source": [
    "data = data[data['status']!='Personality disorder']"
   ]
  },
  {
   "cell_type": "code",
   "execution_count": 13,
   "id": "7446d947",
   "metadata": {
    "execution": {
     "iopub.execute_input": "2025-05-02T21:45:13.139390Z",
     "iopub.status.busy": "2025-05-02T21:45:13.139178Z",
     "iopub.status.idle": "2025-05-02T21:45:13.143288Z",
     "shell.execute_reply": "2025-05-02T21:45:13.142644Z"
    },
    "papermill": {
     "duration": 0.012344,
     "end_time": "2025-05-02T21:45:13.144364",
     "exception": false,
     "start_time": "2025-05-02T21:45:13.132020",
     "status": "completed"
    },
    "tags": []
   },
   "outputs": [
    {
     "data": {
      "text/plain": [
       "50198"
      ]
     },
     "execution_count": 13,
     "metadata": {},
     "output_type": "execute_result"
    }
   ],
   "source": [
    "len(data)"
   ]
  },
  {
   "cell_type": "code",
   "execution_count": 14,
   "id": "53d30d4d",
   "metadata": {
    "execution": {
     "iopub.execute_input": "2025-05-02T21:45:13.157820Z",
     "iopub.status.busy": "2025-05-02T21:45:13.157420Z",
     "iopub.status.idle": "2025-05-02T21:45:13.164990Z",
     "shell.execute_reply": "2025-05-02T21:45:13.164397Z"
    },
    "papermill": {
     "duration": 0.015375,
     "end_time": "2025-05-02T21:45:13.166051",
     "exception": false,
     "start_time": "2025-05-02T21:45:13.150676",
     "status": "completed"
    },
    "tags": []
   },
   "outputs": [
    {
     "data": {
      "text/plain": [
       "status\n",
       "Normal        16040\n",
       "Depression    15094\n",
       "Suicidal      10644\n",
       "Anxiety        3623\n",
       "Bipolar        2501\n",
       "Stress         2296\n",
       "Name: count, dtype: int64"
      ]
     },
     "execution_count": 14,
     "metadata": {},
     "output_type": "execute_result"
    }
   ],
   "source": [
    "data['status'].value_counts()"
   ]
  },
  {
   "cell_type": "code",
   "execution_count": 15,
   "id": "6f3eb3af",
   "metadata": {
    "execution": {
     "iopub.execute_input": "2025-05-02T21:45:13.180109Z",
     "iopub.status.busy": "2025-05-02T21:45:13.179906Z",
     "iopub.status.idle": "2025-05-02T21:45:13.467795Z",
     "shell.execute_reply": "2025-05-02T21:45:13.467082Z"
    },
    "papermill": {
     "duration": 0.296233,
     "end_time": "2025-05-02T21:45:13.469044",
     "exception": false,
     "start_time": "2025-05-02T21:45:13.172811",
     "status": "completed"
    },
    "tags": []
   },
   "outputs": [
    {
     "data": {
      "text/plain": [
       "<Axes: xlabel='count', ylabel='status'>"
      ]
     },
     "execution_count": 15,
     "metadata": {},
     "output_type": "execute_result"
    },
    {
     "data": {
      "image/png": "[encoded data removed]",
      "text/plain": [
       "<Figure size 640x480 with 1 Axes>"
      ]
     },
     "metadata": {},
     "output_type": "display_data"
    }
   ],
   "source": [
    "sns.countplot(data=data, y='status')"
   ]
  },
  {
   "cell_type": "code",
   "execution_count": 16,
   "id": "8deacd33",
   "metadata": {
    "execution": {
     "iopub.execute_input": "2025-05-02T21:45:13.484607Z",
     "iopub.status.busy": "2025-05-02T21:45:13.484174Z",
     "iopub.status.idle": "2025-05-02T21:46:15.310032Z",
     "shell.execute_reply": "2025-05-02T21:46:15.309413Z"
    },
    "papermill": {
     "duration": 61.83461,
     "end_time": "2025-05-02T21:46:15.311420",
     "exception": false,
     "start_time": "2025-05-02T21:45:13.476810",
     "status": "completed"
    },
    "tags": []
   },
   "outputs": [],
   "source": [
    "anxiety_df = data[data['status']=='Anxiety']\n",
    "bipolar_df = data[data['status']=='Bipolar']\n",
    "stress_df = data[data['status']=='Stress']\n",
    "\n",
    "for i in anxiety_df['statement']:\n",
    "    new_text = aug.augment(i)[0]\n",
    "    new_record = {\n",
    "    'status' : 'Anxiety',\n",
    "    'statement' : new_text\n",
    "    }\n",
    "    new_df = pd.DataFrame([new_record])\n",
    "    data = pd.concat([data, new_df], ignore_index=True)\n",
    "\n",
    "for i in bipolar_df['statement']:\n",
    "    new_text = aug.augment(i)[0]\n",
    "    new_record = {\n",
    "    'status' : 'Bipolar',\n",
    "    'statement' : new_text\n",
    "    }\n",
    "    new_df = pd.DataFrame([new_record])\n",
    "    data = pd.concat([data, new_df], ignore_index=True)\n",
    "\n",
    "for i in stress_df['statement']:\n",
    "    new_text = aug.augment(i)[0]\n",
    "    new_record = {\n",
    "    'status' : 'Stress',\n",
    "    'statement' : new_text\n",
    "    }\n",
    "    new_df = pd.DataFrame([new_record])\n",
    "    data = pd.concat([data, new_df], ignore_index=True)\n"
   ]
  },
  {
   "cell_type": "code",
   "execution_count": 17,
   "id": "5a7e2986",
   "metadata": {
    "execution": {
     "iopub.execute_input": "2025-05-02T21:46:15.371490Z",
     "iopub.status.busy": "2025-05-02T21:46:15.371203Z",
     "iopub.status.idle": "2025-05-02T21:46:15.380372Z",
     "shell.execute_reply": "2025-05-02T21:46:15.379649Z"
    },
    "papermill": {
     "duration": 0.062806,
     "end_time": "2025-05-02T21:46:15.381593",
     "exception": false,
     "start_time": "2025-05-02T21:46:15.318787",
     "status": "completed"
    },
    "tags": []
   },
   "outputs": [
    {
     "data": {
      "text/plain": [
       "status\n",
       "Normal        16040\n",
       "Depression    15094\n",
       "Suicidal      10644\n",
       "Anxiety        7246\n",
       "Bipolar        5002\n",
       "Stress         4592\n",
       "Name: count, dtype: int64"
      ]
     },
     "execution_count": 17,
     "metadata": {},
     "output_type": "execute_result"
    }
   ],
   "source": [
    "data['status'].value_counts()"
   ]
  },
  {
   "cell_type": "code",
   "execution_count": 18,
   "id": "d6035a33",
   "metadata": {
    "execution": {
     "iopub.execute_input": "2025-05-02T21:46:15.396998Z",
     "iopub.status.busy": "2025-05-02T21:46:15.396787Z",
     "iopub.status.idle": "2025-05-02T21:46:15.565633Z",
     "shell.execute_reply": "2025-05-02T21:46:15.564876Z"
    },
    "papermill": {
     "duration": 0.177957,
     "end_time": "2025-05-02T21:46:15.566710",
     "exception": false,
     "start_time": "2025-05-02T21:46:15.388753",
     "status": "completed"
    },
    "tags": []
   },
   "outputs": [
    {
     "data": {
      "text/plain": [
       "<Axes: xlabel='count', ylabel='status'>"
      ]
     },
     "execution_count": 18,
     "metadata": {},
     "output_type": "execute_result"
    },
    {
     "data": {
      "image/png": "[encoded data removed]",
      "text/plain": [
       "<Figure size 640x480 with 1 Axes>"
      ]
     },
     "metadata": {},
     "output_type": "display_data"
    }
   ],
   "source": [
    "sns.countplot(data=data, y='status')"
   ]
  },
  {
   "cell_type": "markdown",
   "id": "f3b43d5e",
   "metadata": {
    "papermill": {
     "duration": 0.007279,
     "end_time": "2025-05-02T21:46:15.581488",
     "exception": false,
     "start_time": "2025-05-02T21:46:15.574209",
     "status": "completed"
    },
    "tags": []
   },
   "source": [
    "**<div style=\"font-size:25px; color: #4d81b0;\">Data Preprocessing</div>**"
   ]
  },
  {
   "cell_type": "code",
   "execution_count": 19,
   "id": "7939e8e4",
   "metadata": {
    "execution": {
     "iopub.execute_input": "2025-05-02T21:46:15.597137Z",
     "iopub.status.busy": "2025-05-02T21:46:15.596934Z",
     "iopub.status.idle": "2025-05-02T21:46:15.604652Z",
     "shell.execute_reply": "2025-05-02T21:46:15.604123Z"
    },
    "papermill": {
     "duration": 0.016818,
     "end_time": "2025-05-02T21:46:15.605592",
     "exception": false,
     "start_time": "2025-05-02T21:46:15.588774",
     "status": "completed"
    },
    "tags": []
   },
   "outputs": [],
   "source": [
    "def has_tags(text): # Check if their exist tags in the data\n",
    "    pattern = re.compile(r'<.*?>')\n",
    "    match = re.search(pattern, text)\n",
    "    return match is not None\n",
    "    \n",
    "def tokenize(text): # tokenize text into words\n",
    "    ans = word_tokenize(text)\n",
    "    return ans\n",
    "\n",
    "def remove_punc(text): # remove punctuations from the text\n",
    "    ans = [word for word in text if word not in punctuation]\n",
    "    return ans\n",
    "\n",
    "def remove_ex(text): # remove dots from the text\n",
    "    pattern=re.compile(r'[^\\x00-\\x7F]+')\n",
    "    return pattern.sub('', text)\n",
    "\n",
    "def remove_stop(text): # remove stopwords from the text\n",
    "    stops = set(stopwords.words('english'))\n",
    "    ans = \" \".join([word for word in text.split() if word not in stops])\n",
    "    return ans\n",
    "\n",
    "def stemmer(text): # apply stemming on text\n",
    "    ans = [ps.stem(word) for word in text]\n",
    "    return ans\n",
    "\n",
    "def lemmatizer(text): # apply lemmatization on text\n",
    "    ans = [lemm.lemmatize(word) for word in text]\n",
    "    return ans\n",
    "\n",
    "def remove_links(text): # remove links from the text\n",
    "    return re.sub(r'https?:\\/\\/(.[\\r\\n])', '', text, flags=re.MULTILINE)\n",
    "\n",
    "def remove_tags(text): # remove html tags\n",
    "    pattern = re.compile(r'<.*?>')     \n",
    "    return pattern.sub('', text)\n",
    "\n",
    "def again(text): # reverse tokenization\n",
    "    ans = \" \".join([word for word in text])\n",
    "    return ans\n",
    "\n",
    "def count_punc(text): # return count of characters in the text\n",
    "    count = sum([1 for char in text if char in punctuation])\n",
    "    return round( count/(len(text) - text.count(\" \")),3)*100\n",
    "\n",
    "def tokenize_function(examples):\n",
    "    return tokenizer(\n",
    "        examples['statement'],\n",
    "        padding='max_length',\n",
    "        truncation=True,\n",
    "        max_length=128\n",
    "    )"
   ]
  },
  {
   "cell_type": "code",
   "execution_count": 20,
   "id": "357d57c1",
   "metadata": {
    "execution": {
     "iopub.execute_input": "2025-05-02T21:46:15.621404Z",
     "iopub.status.busy": "2025-05-02T21:46:15.621186Z",
     "iopub.status.idle": "2025-05-02T21:46:15.729250Z",
     "shell.execute_reply": "2025-05-02T21:46:15.728713Z"
    },
    "papermill": {
     "duration": 0.117178,
     "end_time": "2025-05-02T21:46:15.730295",
     "exception": false,
     "start_time": "2025-05-02T21:46:15.613117",
     "status": "completed"
    },
    "tags": []
   },
   "outputs": [
    {
     "data": {
      "text/plain": [
       "142"
      ]
     },
     "execution_count": 20,
     "metadata": {},
     "output_type": "execute_result"
    }
   ],
   "source": [
    "data['statement'].apply(has_tags).sum()"
   ]
  },
  {
   "cell_type": "code",
   "execution_count": 21,
   "id": "0bb4f238",
   "metadata": {
    "execution": {
     "iopub.execute_input": "2025-05-02T21:46:15.746108Z",
     "iopub.status.busy": "2025-05-02T21:46:15.745920Z",
     "iopub.status.idle": "2025-05-02T21:46:15.872867Z",
     "shell.execute_reply": "2025-05-02T21:46:15.872072Z"
    },
    "papermill": {
     "duration": 0.136361,
     "end_time": "2025-05-02T21:46:15.874040",
     "exception": false,
     "start_time": "2025-05-02T21:46:15.737679",
     "status": "completed"
    },
    "tags": []
   },
   "outputs": [
    {
     "data": {
      "text/html": [
       "<div>\n",
       "<style scoped>\n",
       "    .dataframe tbody tr th:only-of-type {\n",
       "        vertical-align: middle;\n",
       "    }\n",
       "\n",
       "    .dataframe tbody tr th {\n",
       "        vertical-align: top;\n",
       "    }\n",
       "\n",
       "    .dataframe thead th {\n",
       "        text-align: right;\n",
       "    }\n",
       "</style>\n",
       "<table border=\"1\" class=\"dataframe\">\n",
       "  <thead>\n",
       "    <tr style=\"text-align: right;\">\n",
       "      <th></th>\n",
       "      <th>statement</th>\n",
       "      <th>status</th>\n",
       "    </tr>\n",
       "  </thead>\n",
       "  <tbody>\n",
       "    <tr>\n",
       "      <th>0</th>\n",
       "      <td>oh my gosh</td>\n",
       "      <td>Anxiety</td>\n",
       "    </tr>\n",
       "    <tr>\n",
       "      <th>1</th>\n",
       "      <td>trouble sleeping, confused mind, restless hear...</td>\n",
       "      <td>Anxiety</td>\n",
       "    </tr>\n",
       "    <tr>\n",
       "      <th>2</th>\n",
       "      <td>all wrong, back off dear, forward doubt. stay ...</td>\n",
       "      <td>Anxiety</td>\n",
       "    </tr>\n",
       "    <tr>\n",
       "      <th>3</th>\n",
       "      <td>i've shifted my focus to something else but i'...</td>\n",
       "      <td>Anxiety</td>\n",
       "    </tr>\n",
       "    <tr>\n",
       "      <th>4</th>\n",
       "      <td>i'm restless and restless, it's been a month n...</td>\n",
       "      <td>Anxiety</td>\n",
       "    </tr>\n",
       "  </tbody>\n",
       "</table>\n",
       "</div>"
      ],
      "text/plain": [
       "                                           statement   status\n",
       "0                                         oh my gosh  Anxiety\n",
       "1  trouble sleeping, confused mind, restless hear...  Anxiety\n",
       "2  all wrong, back off dear, forward doubt. stay ...  Anxiety\n",
       "3  i've shifted my focus to something else but i'...  Anxiety\n",
       "4  i'm restless and restless, it's been a month n...  Anxiety"
      ]
     },
     "execution_count": 21,
     "metadata": {},
     "output_type": "execute_result"
    }
   ],
   "source": [
    "data['statement'] = data['statement'].str.lower()\n",
    "data.head()"
   ]
  },
  {
   "cell_type": "code",
   "execution_count": 22,
   "id": "22dedda0",
   "metadata": {
    "execution": {
     "iopub.execute_input": "2025-05-02T21:46:15.890090Z",
     "iopub.status.busy": "2025-05-02T21:46:15.889877Z",
     "iopub.status.idle": "2025-05-02T21:46:15.976395Z",
     "shell.execute_reply": "2025-05-02T21:46:15.975736Z"
    },
    "papermill": {
     "duration": 0.095817,
     "end_time": "2025-05-02T21:46:15.977634",
     "exception": false,
     "start_time": "2025-05-02T21:46:15.881817",
     "status": "completed"
    },
    "tags": []
   },
   "outputs": [
    {
     "data": {
      "text/plain": [
       "0                                           oh my gosh\n",
       "1    trouble sleeping, confused mind, restless hear...\n",
       "2    all wrong, back off dear, forward doubt. stay ...\n",
       "3    i've shifted my focus to something else but i'...\n",
       "4    i'm restless and restless, it's been a month n...\n",
       "Name: statement, dtype: object"
      ]
     },
     "execution_count": 22,
     "metadata": {},
     "output_type": "execute_result"
    }
   ],
   "source": [
    "data['statement'] = data['statement'].apply(lambda x: remove_tags(x))\n",
    "data['statement'].head()"
   ]
  },
  {
   "cell_type": "code",
   "execution_count": 23,
   "id": "5e5f0a2c",
   "metadata": {
    "execution": {
     "iopub.execute_input": "2025-05-02T21:46:15.997076Z",
     "iopub.status.busy": "2025-05-02T21:46:15.996370Z",
     "iopub.status.idle": "2025-05-02T21:46:52.023025Z",
     "shell.execute_reply": "2025-05-02T21:46:52.022307Z"
    },
    "papermill": {
     "duration": 36.045128,
     "end_time": "2025-05-02T21:46:52.032110",
     "exception": false,
     "start_time": "2025-05-02T21:46:15.986982",
     "status": "completed"
    },
    "tags": []
   },
   "outputs": [
    {
     "data": {
      "text/plain": [
       "0                                       [oh, my, gosh]\n",
       "1    [trouble, sleeping, ,, confused, mind, ,, rest...\n",
       "2    [all, wrong, ,, back, off, dear, ,, forward, d...\n",
       "3    [i, 've, shifted, my, focus, to, something, el...\n",
       "4    [i, 'm, restless, and, restless, ,, it, 's, be...\n",
       "Name: statement, dtype: object"
      ]
     },
     "execution_count": 23,
     "metadata": {},
     "output_type": "execute_result"
    }
   ],
   "source": [
    "data['statement'] = data['statement'].apply(lambda x: tokenize(x))\n",
    "data['statement'].head()"
   ]
  },
  {
   "cell_type": "code",
   "execution_count": 24,
   "id": "281547f0",
   "metadata": {
    "execution": {
     "iopub.execute_input": "2025-05-02T21:46:52.049836Z",
     "iopub.status.busy": "2025-05-02T21:46:52.049608Z",
     "iopub.status.idle": "2025-05-02T21:46:53.817788Z",
     "shell.execute_reply": "2025-05-02T21:46:53.817155Z"
    },
    "papermill": {
     "duration": 1.778389,
     "end_time": "2025-05-02T21:46:53.818957",
     "exception": false,
     "start_time": "2025-05-02T21:46:52.040568",
     "status": "completed"
    },
    "tags": []
   },
   "outputs": [
    {
     "data": {
      "text/plain": [
       "0                                       [oh, my, gosh]\n",
       "1    [trouble, sleeping, confused, mind, restless, ...\n",
       "2    [all, wrong, back, off, dear, forward, doubt, ...\n",
       "3    [i, 've, shifted, my, focus, to, something, el...\n",
       "4    [i, 'm, restless, and, restless, it, 's, been,...\n",
       "Name: statement, dtype: object"
      ]
     },
     "execution_count": 24,
     "metadata": {},
     "output_type": "execute_result"
    }
   ],
   "source": [
    "data['statement'] = data['statement'].apply(lambda x: remove_punc(x))\n",
    "data['statement'].head()"
   ]
  },
  {
   "cell_type": "code",
   "execution_count": 25,
   "id": "5e2c23de",
   "metadata": {
    "execution": {
     "iopub.execute_input": "2025-05-02T21:46:53.835180Z",
     "iopub.status.busy": "2025-05-02T21:46:53.834972Z",
     "iopub.status.idle": "2025-05-02T21:46:54.178421Z",
     "shell.execute_reply": "2025-05-02T21:46:54.177726Z"
    },
    "papermill": {
     "duration": 0.352745,
     "end_time": "2025-05-02T21:46:54.179634",
     "exception": false,
     "start_time": "2025-05-02T21:46:53.826889",
     "status": "completed"
    },
    "tags": []
   },
   "outputs": [
    {
     "data": {
      "text/plain": [
       "0                                           oh my gosh\n",
       "1    trouble sleeping confused mind restless heart ...\n",
       "2    all wrong back off dear forward doubt stay in ...\n",
       "3    i 've shifted my focus to something else but i...\n",
       "4    i 'm restless and restless it 's been a month ...\n",
       "Name: statement, dtype: object"
      ]
     },
     "execution_count": 25,
     "metadata": {},
     "output_type": "execute_result"
    }
   ],
   "source": [
    "data['statement'] = data['statement'].apply(lambda x: again(x))\n",
    "data['statement'].head()"
   ]
  },
  {
   "cell_type": "code",
   "execution_count": 26,
   "id": "23d6c64a",
   "metadata": {
    "execution": {
     "iopub.execute_input": "2025-05-02T21:46:54.196133Z",
     "iopub.status.busy": "2025-05-02T21:46:54.195750Z",
     "iopub.status.idle": "2025-05-02T21:47:00.398847Z",
     "shell.execute_reply": "2025-05-02T21:47:00.398234Z"
    },
    "papermill": {
     "duration": 6.212425,
     "end_time": "2025-05-02T21:47:00.400074",
     "exception": false,
     "start_time": "2025-05-02T21:46:54.187649",
     "status": "completed"
    },
    "tags": []
   },
   "outputs": [
    {
     "data": {
      "text/plain": [
       "0                                              oh gosh\n",
       "1    trouble sleeping confused mind restless heart ...\n",
       "2    wrong back dear forward doubt stay restless re...\n",
       "3    've shifted focus something else 'm still worried\n",
       "4               'm restless restless 's month boy mean\n",
       "Name: statement, dtype: object"
      ]
     },
     "execution_count": 26,
     "metadata": {},
     "output_type": "execute_result"
    }
   ],
   "source": [
    "data['statement'] = data['statement'].apply(lambda x: remove_stop(x))\n",
    "data['statement'].head()"
   ]
  },
  {
   "cell_type": "code",
   "execution_count": 27,
   "id": "14dcae5c",
   "metadata": {
    "execution": {
     "iopub.execute_input": "2025-05-02T21:47:00.417178Z",
     "iopub.status.busy": "2025-05-02T21:47:00.416986Z",
     "iopub.status.idle": "2025-05-02T21:47:00.819936Z",
     "shell.execute_reply": "2025-05-02T21:47:00.819265Z"
    },
    "papermill": {
     "duration": 0.412509,
     "end_time": "2025-05-02T21:47:00.821045",
     "exception": false,
     "start_time": "2025-05-02T21:47:00.408536",
     "status": "completed"
    },
    "tags": []
   },
   "outputs": [
    {
     "data": {
      "text/plain": [
       "0                                              oh gosh\n",
       "1    trouble sleeping confused mind restless heart ...\n",
       "2    wrong back dear forward doubt stay restless re...\n",
       "3    've shifted focus something else 'm still worried\n",
       "4               'm restless restless 's month boy mean\n",
       "Name: statement, dtype: object"
      ]
     },
     "execution_count": 27,
     "metadata": {},
     "output_type": "execute_result"
    }
   ],
   "source": [
    "data['statement'] = data['statement'].apply(lambda x: remove_ex(x))\n",
    "data['statement'].head()"
   ]
  },
  {
   "cell_type": "code",
   "execution_count": 28,
   "id": "4e6a7317",
   "metadata": {
    "execution": {
     "iopub.execute_input": "2025-05-02T21:47:00.838967Z",
     "iopub.status.busy": "2025-05-02T21:47:00.838480Z",
     "iopub.status.idle": "2025-05-02T21:47:00.845291Z",
     "shell.execute_reply": "2025-05-02T21:47:00.844684Z"
    },
    "papermill": {
     "duration": 0.016638,
     "end_time": "2025-05-02T21:47:00.846450",
     "exception": false,
     "start_time": "2025-05-02T21:47:00.829812",
     "status": "completed"
    },
    "tags": []
   },
   "outputs": [
    {
     "data": {
      "text/html": [
       "<div>\n",
       "<style scoped>\n",
       "    .dataframe tbody tr th:only-of-type {\n",
       "        vertical-align: middle;\n",
       "    }\n",
       "\n",
       "    .dataframe tbody tr th {\n",
       "        vertical-align: top;\n",
       "    }\n",
       "\n",
       "    .dataframe thead th {\n",
       "        text-align: right;\n",
       "    }\n",
       "</style>\n",
       "<table border=\"1\" class=\"dataframe\">\n",
       "  <thead>\n",
       "    <tr style=\"text-align: right;\">\n",
       "      <th></th>\n",
       "      <th>statement</th>\n",
       "      <th>status</th>\n",
       "    </tr>\n",
       "  </thead>\n",
       "  <tbody>\n",
       "    <tr>\n",
       "      <th>0</th>\n",
       "      <td>oh gosh</td>\n",
       "      <td>Anxiety</td>\n",
       "    </tr>\n",
       "    <tr>\n",
       "      <th>1</th>\n",
       "      <td>trouble sleeping confused mind restless heart ...</td>\n",
       "      <td>Anxiety</td>\n",
       "    </tr>\n",
       "    <tr>\n",
       "      <th>2</th>\n",
       "      <td>wrong back dear forward doubt stay restless re...</td>\n",
       "      <td>Anxiety</td>\n",
       "    </tr>\n",
       "    <tr>\n",
       "      <th>3</th>\n",
       "      <td>'ve shifted focus something else 'm still worried</td>\n",
       "      <td>Anxiety</td>\n",
       "    </tr>\n",
       "    <tr>\n",
       "      <th>4</th>\n",
       "      <td>'m restless restless 's month boy mean</td>\n",
       "      <td>Anxiety</td>\n",
       "    </tr>\n",
       "    <tr>\n",
       "      <th>5</th>\n",
       "      <td>every break must nervous like something wrong ...</td>\n",
       "      <td>Anxiety</td>\n",
       "    </tr>\n",
       "    <tr>\n",
       "      <th>6</th>\n",
       "      <td>feel scared anxious may family us protected</td>\n",
       "      <td>Anxiety</td>\n",
       "    </tr>\n",
       "    <tr>\n",
       "      <th>7</th>\n",
       "      <td>ever felt nervous n't know</td>\n",
       "      <td>Anxiety</td>\n",
       "    </tr>\n",
       "    <tr>\n",
       "      <th>8</th>\n",
       "      <td>n't slept well 2 days 's like 'm restless huh</td>\n",
       "      <td>Anxiety</td>\n",
       "    </tr>\n",
       "    <tr>\n",
       "      <th>9</th>\n",
       "      <td>'m really worried want cry</td>\n",
       "      <td>Anxiety</td>\n",
       "    </tr>\n",
       "  </tbody>\n",
       "</table>\n",
       "</div>"
      ],
      "text/plain": [
       "                                           statement   status\n",
       "0                                            oh gosh  Anxiety\n",
       "1  trouble sleeping confused mind restless heart ...  Anxiety\n",
       "2  wrong back dear forward doubt stay restless re...  Anxiety\n",
       "3  've shifted focus something else 'm still worried  Anxiety\n",
       "4             'm restless restless 's month boy mean  Anxiety\n",
       "5  every break must nervous like something wrong ...  Anxiety\n",
       "6        feel scared anxious may family us protected  Anxiety\n",
       "7                         ever felt nervous n't know  Anxiety\n",
       "8      n't slept well 2 days 's like 'm restless huh  Anxiety\n",
       "9                         'm really worried want cry  Anxiety"
      ]
     },
     "execution_count": 28,
     "metadata": {},
     "output_type": "execute_result"
    }
   ],
   "source": [
    "data.head(10)"
   ]
  },
  {
   "cell_type": "code",
   "execution_count": 29,
   "id": "d2e0c419",
   "metadata": {
    "execution": {
     "iopub.execute_input": "2025-05-02T21:47:00.862904Z",
     "iopub.status.busy": "2025-05-02T21:47:00.862692Z",
     "iopub.status.idle": "2025-05-02T21:47:00.882323Z",
     "shell.execute_reply": "2025-05-02T21:47:00.881649Z"
    },
    "papermill": {
     "duration": 0.029058,
     "end_time": "2025-05-02T21:47:00.883368",
     "exception": false,
     "start_time": "2025-05-02T21:47:00.854310",
     "status": "completed"
    },
    "tags": []
   },
   "outputs": [
    {
     "data": {
      "text/html": [
       "<div>\n",
       "<style scoped>\n",
       "    .dataframe tbody tr th:only-of-type {\n",
       "        vertical-align: middle;\n",
       "    }\n",
       "\n",
       "    .dataframe tbody tr th {\n",
       "        vertical-align: top;\n",
       "    }\n",
       "\n",
       "    .dataframe thead th {\n",
       "        text-align: right;\n",
       "    }\n",
       "</style>\n",
       "<table border=\"1\" class=\"dataframe\">\n",
       "  <thead>\n",
       "    <tr style=\"text-align: right;\">\n",
       "      <th></th>\n",
       "      <th>statement</th>\n",
       "      <th>status</th>\n",
       "    </tr>\n",
       "  </thead>\n",
       "  <tbody>\n",
       "    <tr>\n",
       "      <th>0</th>\n",
       "      <td>heading altrincham hour install</td>\n",
       "      <td>Normal</td>\n",
       "    </tr>\n",
       "    <tr>\n",
       "      <th>1</th>\n",
       "      <td>see medico new diagnosed character stress diso...</td>\n",
       "      <td>Stress</td>\n",
       "    </tr>\n",
       "    <tr>\n",
       "      <th>2</th>\n",
       "      <td>topamax side effects 6 months 've lost much ha...</td>\n",
       "      <td>Bipolar</td>\n",
       "    </tr>\n",
       "    <tr>\n",
       "      <th>3</th>\n",
       "      <td>share ni-ki odng templates</td>\n",
       "      <td>Normal</td>\n",
       "    </tr>\n",
       "    <tr>\n",
       "      <th>4</th>\n",
       "      <td>need near death experience snap depressive fog...</td>\n",
       "      <td>Depression</td>\n",
       "    </tr>\n",
       "    <tr>\n",
       "      <th>5</th>\n",
       "      <td>feel like getting closer giving everyday help ...</td>\n",
       "      <td>Depression</td>\n",
       "    </tr>\n",
       "    <tr>\n",
       "      <th>6</th>\n",
       "      <td>things happen course life quite normal somethi...</td>\n",
       "      <td>Normal</td>\n",
       "    </tr>\n",
       "    <tr>\n",
       "      <th>7</th>\n",
       "      <td>courage get gun shoot feel like life pointless...</td>\n",
       "      <td>Suicidal</td>\n",
       "    </tr>\n",
       "    <tr>\n",
       "      <th>8</th>\n",
       "      <td>crazy think many people undervalue significanc...</td>\n",
       "      <td>Suicidal</td>\n",
       "    </tr>\n",
       "    <tr>\n",
       "      <th>9</th>\n",
       "      <td>got diagnosis generalized anxiety disorder wa ...</td>\n",
       "      <td>Depression</td>\n",
       "    </tr>\n",
       "  </tbody>\n",
       "</table>\n",
       "</div>"
      ],
      "text/plain": [
       "                                           statement      status\n",
       "0                    heading altrincham hour install      Normal\n",
       "1  see medico new diagnosed character stress diso...      Stress\n",
       "2  topamax side effects 6 months 've lost much ha...     Bipolar\n",
       "3                         share ni-ki odng templates      Normal\n",
       "4  need near death experience snap depressive fog...  Depression\n",
       "5  feel like getting closer giving everyday help ...  Depression\n",
       "6  things happen course life quite normal somethi...      Normal\n",
       "7  courage get gun shoot feel like life pointless...    Suicidal\n",
       "8  crazy think many people undervalue significanc...    Suicidal\n",
       "9  got diagnosis generalized anxiety disorder wa ...  Depression"
      ]
     },
     "execution_count": 29,
     "metadata": {},
     "output_type": "execute_result"
    }
   ],
   "source": [
    "data = data.sample(frac=1).reset_index(drop=True)\n",
    "data.head(10)"
   ]
  },
  {
   "cell_type": "code",
   "execution_count": 30,
   "id": "adc6db58",
   "metadata": {
    "execution": {
     "iopub.execute_input": "2025-05-02T21:47:00.899884Z",
     "iopub.status.busy": "2025-05-02T21:47:00.899694Z",
     "iopub.status.idle": "2025-05-02T21:47:00.903780Z",
     "shell.execute_reply": "2025-05-02T21:47:00.903269Z"
    },
    "papermill": {
     "duration": 0.013501,
     "end_time": "2025-05-02T21:47:00.904853",
     "exception": false,
     "start_time": "2025-05-02T21:47:00.891352",
     "status": "completed"
    },
    "tags": []
   },
   "outputs": [
    {
     "data": {
      "text/plain": [
       "'got diagnosis generalized anxiety disorder wa optimistic relieved living condition many year completely unaware diagnosis wa spark hope perhaps one day able recover proper combination therapy medication year later must admit feel exhausted life really depressing live knowledge constantly alert condition spiral get worse yes treatment help needing continually use cbt meditation grounding technique etc thing normal people without difficulty infuriating feel like nearly talked enough mental health circle anxiety depression portrayed often condition fixed right cocktail also sometimes life long condition exhaust loved one know feeling bitter today'"
      ]
     },
     "execution_count": 30,
     "metadata": {},
     "output_type": "execute_result"
    }
   ],
   "source": [
    "data['statement'].iloc[9]"
   ]
  },
  {
   "cell_type": "code",
   "execution_count": 31,
   "id": "9ccab42b",
   "metadata": {
    "execution": {
     "iopub.execute_input": "2025-05-02T21:47:00.922457Z",
     "iopub.status.busy": "2025-05-02T21:47:00.921850Z",
     "iopub.status.idle": "2025-05-02T21:47:00.939093Z",
     "shell.execute_reply": "2025-05-02T21:47:00.938544Z"
    },
    "papermill": {
     "duration": 0.027264,
     "end_time": "2025-05-02T21:47:00.940130",
     "exception": false,
     "start_time": "2025-05-02T21:47:00.912866",
     "status": "completed"
    },
    "tags": []
   },
   "outputs": [
    {
     "data": {
      "text/html": [
       "<div>\n",
       "<style scoped>\n",
       "    .dataframe tbody tr th:only-of-type {\n",
       "        vertical-align: middle;\n",
       "    }\n",
       "\n",
       "    .dataframe tbody tr th {\n",
       "        vertical-align: top;\n",
       "    }\n",
       "\n",
       "    .dataframe thead th {\n",
       "        text-align: right;\n",
       "    }\n",
       "</style>\n",
       "<table border=\"1\" class=\"dataframe\">\n",
       "  <thead>\n",
       "    <tr style=\"text-align: right;\">\n",
       "      <th></th>\n",
       "      <th>statement</th>\n",
       "      <th>status</th>\n",
       "      <th>encoded</th>\n",
       "    </tr>\n",
       "  </thead>\n",
       "  <tbody>\n",
       "    <tr>\n",
       "      <th>0</th>\n",
       "      <td>heading altrincham hour install</td>\n",
       "      <td>Normal</td>\n",
       "      <td>3</td>\n",
       "    </tr>\n",
       "    <tr>\n",
       "      <th>1</th>\n",
       "      <td>see medico new diagnosed character stress diso...</td>\n",
       "      <td>Stress</td>\n",
       "      <td>4</td>\n",
       "    </tr>\n",
       "    <tr>\n",
       "      <th>2</th>\n",
       "      <td>topamax side effects 6 months 've lost much ha...</td>\n",
       "      <td>Bipolar</td>\n",
       "      <td>1</td>\n",
       "    </tr>\n",
       "    <tr>\n",
       "      <th>3</th>\n",
       "      <td>share ni-ki odng templates</td>\n",
       "      <td>Normal</td>\n",
       "      <td>3</td>\n",
       "    </tr>\n",
       "    <tr>\n",
       "      <th>4</th>\n",
       "      <td>need near death experience snap depressive fog...</td>\n",
       "      <td>Depression</td>\n",
       "      <td>2</td>\n",
       "    </tr>\n",
       "    <tr>\n",
       "      <th>5</th>\n",
       "      <td>feel like getting closer giving everyday help ...</td>\n",
       "      <td>Depression</td>\n",
       "      <td>2</td>\n",
       "    </tr>\n",
       "    <tr>\n",
       "      <th>6</th>\n",
       "      <td>things happen course life quite normal somethi...</td>\n",
       "      <td>Normal</td>\n",
       "      <td>3</td>\n",
       "    </tr>\n",
       "    <tr>\n",
       "      <th>7</th>\n",
       "      <td>courage get gun shoot feel like life pointless...</td>\n",
       "      <td>Suicidal</td>\n",
       "      <td>5</td>\n",
       "    </tr>\n",
       "    <tr>\n",
       "      <th>8</th>\n",
       "      <td>crazy think many people undervalue significanc...</td>\n",
       "      <td>Suicidal</td>\n",
       "      <td>5</td>\n",
       "    </tr>\n",
       "    <tr>\n",
       "      <th>9</th>\n",
       "      <td>got diagnosis generalized anxiety disorder wa ...</td>\n",
       "      <td>Depression</td>\n",
       "      <td>2</td>\n",
       "    </tr>\n",
       "  </tbody>\n",
       "</table>\n",
       "</div>"
      ],
      "text/plain": [
       "                                           statement      status  encoded\n",
       "0                    heading altrincham hour install      Normal        3\n",
       "1  see medico new diagnosed character stress diso...      Stress        4\n",
       "2  topamax side effects 6 months 've lost much ha...     Bipolar        1\n",
       "3                         share ni-ki odng templates      Normal        3\n",
       "4  need near death experience snap depressive fog...  Depression        2\n",
       "5  feel like getting closer giving everyday help ...  Depression        2\n",
       "6  things happen course life quite normal somethi...      Normal        3\n",
       "7  courage get gun shoot feel like life pointless...    Suicidal        5\n",
       "8  crazy think many people undervalue significanc...    Suicidal        5\n",
       "9  got diagnosis generalized anxiety disorder wa ...  Depression        2"
      ]
     },
     "execution_count": 31,
     "metadata": {},
     "output_type": "execute_result"
    }
   ],
   "source": [
    "data['encoded'] = label_encoder.fit_transform(data['status'])\n",
    "data.head(10)"
   ]
  },
  {
   "cell_type": "code",
   "execution_count": 32,
   "id": "e72ac17f",
   "metadata": {
    "execution": {
     "iopub.execute_input": "2025-05-02T21:47:00.957889Z",
     "iopub.status.busy": "2025-05-02T21:47:00.957436Z",
     "iopub.status.idle": "2025-05-02T21:47:00.964617Z",
     "shell.execute_reply": "2025-05-02T21:47:00.964056Z"
    },
    "papermill": {
     "duration": 0.017167,
     "end_time": "2025-05-02T21:47:00.965671",
     "exception": false,
     "start_time": "2025-05-02T21:47:00.948504",
     "status": "completed"
    },
    "tags": []
   },
   "outputs": [
    {
     "data": {
      "text/plain": [
       "array(['Normal', 'Stress', 'Bipolar', 'Depression', 'Suicidal', 'Anxiety'],\n",
       "      dtype=object)"
      ]
     },
     "execution_count": 32,
     "metadata": {},
     "output_type": "execute_result"
    }
   ],
   "source": [
    "data['status'].unique()"
   ]
  },
  {
   "cell_type": "code",
   "execution_count": 33,
   "id": "c0ca4d1d",
   "metadata": {
    "execution": {
     "iopub.execute_input": "2025-05-02T21:47:00.982871Z",
     "iopub.status.busy": "2025-05-02T21:47:00.982695Z",
     "iopub.status.idle": "2025-05-02T21:47:00.989285Z",
     "shell.execute_reply": "2025-05-02T21:47:00.988746Z"
    },
    "papermill": {
     "duration": 0.0163,
     "end_time": "2025-05-02T21:47:00.990317",
     "exception": false,
     "start_time": "2025-05-02T21:47:00.974017",
     "status": "completed"
    },
    "tags": []
   },
   "outputs": [
    {
     "data": {
      "text/plain": [
       "array([3, 4, 1, 2, 5, 0])"
      ]
     },
     "execution_count": 33,
     "metadata": {},
     "output_type": "execute_result"
    }
   ],
   "source": [
    "data['encoded'].unique()"
   ]
  },
  {
   "cell_type": "code",
   "execution_count": 34,
   "id": "17dcc760",
   "metadata": {
    "execution": {
     "iopub.execute_input": "2025-05-02T21:47:01.007990Z",
     "iopub.status.busy": "2025-05-02T21:47:01.007794Z",
     "iopub.status.idle": "2025-05-02T21:47:01.010964Z",
     "shell.execute_reply": "2025-05-02T21:47:01.010426Z"
    },
    "papermill": {
     "duration": 0.013277,
     "end_time": "2025-05-02T21:47:01.012083",
     "exception": false,
     "start_time": "2025-05-02T21:47:00.998806",
     "status": "completed"
    },
    "tags": []
   },
   "outputs": [],
   "source": [
    "os.makedirs('/kaggle/working/results', exist_ok = True)"
   ]
  },
  {
   "cell_type": "code",
   "execution_count": 35,
   "id": "a190497b",
   "metadata": {
    "execution": {
     "iopub.execute_input": "2025-05-02T21:47:01.030317Z",
     "iopub.status.busy": "2025-05-02T21:47:01.029811Z",
     "iopub.status.idle": "2025-05-02T21:47:01.033912Z",
     "shell.execute_reply": "2025-05-02T21:47:01.033277Z"
    },
    "jupyter": {
     "source_hidden": true
    },
    "papermill": {
     "duration": 0.014666,
     "end_time": "2025-05-02T21:47:01.035051",
     "exception": false,
     "start_time": "2025-05-02T21:47:01.020385",
     "status": "completed"
    },
    "tags": []
   },
   "outputs": [],
   "source": [
    "# tokenizer = BertTokenizer.from_pretrained('bert-base-uncased')\n",
    "\n",
    "# train_dataset = Dataset.from_pandas(train_df)\n",
    "# val_dataset = Dataset.from_pandas(val_df)\n",
    "# test_dataset = Dataset.from_pandas(test_df)\n",
    "\n",
    "# tokenized_train = train_dataset.map(tokenize_function, batched=True)\n",
    "# tokenized_val = val_dataset.map(tokenize_function, batched=True)\n",
    "# tokenized_test = test_dataset.map(tokenize_function, batched=True)\n",
    "\n",
    "# model = BertForSequenceClassification.from_pretrained(\n",
    "#     'bert-base-uncased',\n",
    "#     num_labels=6\n",
    "# )\n",
    "\n",
    "# training_args = TrainingArguments(\n",
    "#     output_dir='/kaggle/working/results',\n",
    "#     eval_strategy='epoch',\n",
    "#     learning_rate=0.00001,\n",
    "#     per_device_train_batch_size=16,\n",
    "#     per_device_eval_batch_size=16,\n",
    "#     num_train_epochs=3,\n",
    "#     weight_decay=0.01,\n",
    "#     save_strategy='epoch',\n",
    "#     load_best_model_at_end=True\n",
    "# )\n",
    "\n",
    "# class_weights = compute_class_weight(\n",
    "#     class_weight='balanced',\n",
    "#     classes=np.unique(train_df['encoded']),\n",
    "#     y=train_df['encoded']\n",
    "# )\n",
    "\n",
    "# class CustomTrainer(Trainer):\n",
    "#     def compute_loss(self, model, inputs, return_outputs=False):\n",
    "#         labels = inputs.get('labels')\n",
    "#         outputs = model(**inputs)\n",
    "#         logits = outputs.get('logits')\n",
    "#         loss_fct = nn.CrossEntropyLoss(weight=torch.tensor(class_weights).float().to('cuda'))\n",
    "#         loss = loss_fct(logits.view(-1, self.model.config.num_labels), labels.view(-1))\n",
    "#         return (loss, outputs) if return_outputs else loss"
   ]
  },
  {
   "cell_type": "markdown",
   "id": "678a4714",
   "metadata": {
    "papermill": {
     "duration": 0.008076,
     "end_time": "2025-05-02T21:47:01.051325",
     "exception": false,
     "start_time": "2025-05-02T21:47:01.043249",
     "status": "completed"
    },
    "tags": []
   },
   "source": [
    "**<div style=\"font-size:25px; color: #4d81b0;\">Model Building and Training</div>**"
   ]
  },
  {
   "cell_type": "code",
   "execution_count": 36,
   "id": "e15eab1e",
   "metadata": {
    "execution": {
     "iopub.execute_input": "2025-05-02T21:47:01.068808Z",
     "iopub.status.busy": "2025-05-02T21:47:01.068628Z",
     "iopub.status.idle": "2025-05-02T23:17:18.965444Z",
     "shell.execute_reply": "2025-05-02T23:17:18.964793Z"
    },
    "papermill": {
     "duration": 5417.907137,
     "end_time": "2025-05-02T23:17:18.966698",
     "exception": false,
     "start_time": "2025-05-02T21:47:01.059561",
     "status": "completed"
    },
    "tags": []
   },
   "outputs": [
    {
     "data": {
      "application/vnd.jupyter.widget-view+json": {
       "model_id": "b4f68122f6af4d0790d6af925e3addb5",
       "version_major": 2,
       "version_minor": 0
      },
      "text/plain": [
       "tokenizer_config.json:   0%|          | 0.00/48.0 [00:00<?, ?B/s]"
      ]
     },
     "metadata": {},
     "output_type": "display_data"
    },
    {
     "data": {
      "application/vnd.jupyter.widget-view+json": {
       "model_id": "22464479577d43389c5fc4a0730319c2",
       "version_major": 2,
       "version_minor": 0
      },
      "text/plain": [
       "vocab.txt:   0%|          | 0.00/232k [00:00<?, ?B/s]"
      ]
     },
     "metadata": {},
     "output_type": "display_data"
    },
    {
     "data": {
      "application/vnd.jupyter.widget-view+json": {
       "model_id": "0d6db3cd3b41476e94f9aff3d833a86e",
       "version_major": 2,
       "version_minor": 0
      },
      "text/plain": [
       "tokenizer.json:   0%|          | 0.00/466k [00:00<?, ?B/s]"
      ]
     },
     "metadata": {},
     "output_type": "display_data"
    },
    {
     "data": {
      "application/vnd.jupyter.widget-view+json": {
       "model_id": "20b2a44bad6e4866a0790b4aa8a75b14",
       "version_major": 2,
       "version_minor": 0
      },
      "text/plain": [
       "config.json:   0%|          | 0.00/570 [00:00<?, ?B/s]"
      ]
     },
     "metadata": {},
     "output_type": "display_data"
    },
    {
     "name": "stderr",
     "output_type": "stream",
     "text": [
      "I0000 00:00:1746222466.380677      19 gpu_device.cc:2022] Created device /job:localhost/replica:0/task:0/device:GPU:0 with 13942 MB memory:  -> device: 0, name: Tesla T4, pci bus id: 0000:00:04.0, compute capability: 7.5\n",
      "I0000 00:00:1746222466.381411      19 gpu_device.cc:2022] Created device /job:localhost/replica:0/task:0/device:GPU:1 with 13942 MB memory:  -> device: 1, name: Tesla T4, pci bus id: 0000:00:05.0, compute capability: 7.5\n",
      "Xet Storage is enabled for this repo, but the 'hf_xet' package is not installed. Falling back to regular HTTP download. For better performance, install the package with: `pip install huggingface_hub[hf_xet]` or `pip install hf_xet`\n"
     ]
    },
    {
     "data": {
      "application/vnd.jupyter.widget-view+json": {
       "model_id": "32ee6252231b442ab0bebbd3822c199a",
       "version_major": 2,
       "version_minor": 0
      },
      "text/plain": [
       "model.safetensors:   0%|          | 0.00/440M [00:00<?, ?B/s]"
      ]
     },
     "metadata": {},
     "output_type": "display_data"
    },
    {
     "name": "stderr",
     "output_type": "stream",
     "text": [
      "All PyTorch model weights were used when initializing TFBertForSequenceClassification.\n",
      "\n",
      "Some weights or buffers of the TF 2.0 model TFBertForSequenceClassification were not initialized from the PyTorch model and are newly initialized: ['classifier.weight', 'classifier.bias']\n",
      "You should probably TRAIN this model on a down-stream task to be able to use it for predictions and inference.\n"
     ]
    },
    {
     "name": "stdout",
     "output_type": "stream",
     "text": [
      "Epoch 1/20\n"
     ]
    },
    {
     "name": "stderr",
     "output_type": "stream",
     "text": [
      "WARNING: All log messages before absl::InitializeLog() is called are written to STDERR\n",
      "I0000 00:00:1746222524.102754      68 service.cc:148] XLA service 0x7da14869bcd0 initialized for platform CUDA (this does not guarantee that XLA will be used). Devices:\n",
      "I0000 00:00:1746222524.104448      68 service.cc:156]   StreamExecutor device (0): Tesla T4, Compute Capability 7.5\n",
      "I0000 00:00:1746222524.104468      68 service.cc:156]   StreamExecutor device (1): Tesla T4, Compute Capability 7.5\n",
      "I0000 00:00:1746222524.241283      68 cuda_dnn.cc:529] Loaded cuDNN version 90300\n",
      "I0000 00:00:1746222524.421567      68 device_compiler.h:188] Compiled cluster using XLA!  This line is logged at most once for the lifetime of the process.\n"
     ]
    },
    {
     "name": "stdout",
     "output_type": "stream",
     "text": [
      "2931/2931 [==============================] - 1354s 443ms/step - loss: 0.6812 - accuracy: 0.7399 - val_loss: 0.5246 - val_accuracy: 0.7962 - lr: 2.0000e-05\n",
      "Epoch 2/20\n",
      "2931/2931 [==============================] - 1299s 443ms/step - loss: 0.4316 - accuracy: 0.8302 - val_loss: 0.4744 - val_accuracy: 0.8151 - lr: 2.0000e-05\n",
      "Epoch 3/20\n",
      "2931/2931 [==============================] - ETA: 0s - loss: 0.2989 - accuracy: 0.8809\n",
      "Epoch 3: ReduceLROnPlateau reducing learning rate to 9.999999747378752e-06.\n",
      "2931/2931 [==============================] - 1298s 443ms/step - loss: 0.2989 - accuracy: 0.8809 - val_loss: 0.5493 - val_accuracy: 0.8063 - lr: 2.0000e-05\n",
      "Epoch 4/20\n",
      "2931/2931 [==============================] - ETA: 0s - loss: 0.1711 - accuracy: 0.9342\n",
      "Epoch 4: ReduceLROnPlateau reducing learning rate to 4.999999873689376e-06.\n",
      "2931/2931 [==============================] - 1298s 443ms/step - loss: 0.1711 - accuracy: 0.9342 - val_loss: 0.5315 - val_accuracy: 0.8281 - lr: 1.0000e-05\n",
      "733/733 [==============================] - 107s 145ms/step - loss: 0.4744 - accuracy: 0.8151\n",
      "Validation accuracy: 81.51%\n"
     ]
    },
    {
     "data": {
      "text/plain": [
       "('mental_health_bert/tokenizer_config.json',\n",
       " 'mental_health_bert/special_tokens_map.json',\n",
       " 'mental_health_bert/vocab.txt',\n",
       " 'mental_health_bert/added_tokens.json')"
      ]
     },
     "execution_count": 36,
     "metadata": {},
     "output_type": "execute_result"
    }
   ],
   "source": [
    "from sklearn.model_selection import train_test_split\n",
    "from transformers import BertTokenizer, TFBertForSequenceClassification\n",
    "import tensorflow as tf\n",
    "\n",
    "# Encode labels\n",
    "labels = label_encoder.fit_transform(data['status'])\n",
    "class_names = label_encoder.classes_ \n",
    "num_classes = 6\n",
    "\n",
    "# Train/validation split\n",
    "X_train, X_val, y_train, y_val = train_test_split(\n",
    "    data['statement'], labels, test_size=0.2, random_state=42\n",
    ")\n",
    "\n",
    "# Tokenization\n",
    "tokenizer = BertTokenizer.from_pretrained('bert-base-uncased')\n",
    "\n",
    "def tokenize_texts(texts, max_length=128):\n",
    "    return tokenizer(\n",
    "        texts.tolist(),\n",
    "        padding='max_length',\n",
    "        truncation=True,\n",
    "        max_length=max_length,\n",
    "        return_tensors='tf'\n",
    "    )\n",
    "\n",
    "train_encodings = tokenize_texts(X_train)\n",
    "val_encodings = tokenize_texts(X_val)\n",
    "\n",
    "# Dataset creation\n",
    "train_dataset = tf.data.Dataset.from_tensor_slices((\n",
    "    {\n",
    "        'input_ids': train_encodings['input_ids'],\n",
    "        'attention_mask': train_encodings['attention_mask']\n",
    "    }, y_train)).shuffle(1000).batch(16)\n",
    "\n",
    "val_dataset = tf.data.Dataset.from_tensor_slices((\n",
    "    {\n",
    "        'input_ids': val_encodings['input_ids'],\n",
    "        'attention_mask': val_encodings['attention_mask']\n",
    "    }, y_val)).batch(16)\n",
    "\n",
    "# Load BERT model\n",
    "model = TFBertForSequenceClassification.from_pretrained(\n",
    "    'bert-base-uncased',\n",
    "    num_labels=num_classes\n",
    ")\n",
    "\n",
    "# Compile model\n",
    "optimizer = tf.keras.optimizers.Adam(learning_rate=2e-5)\n",
    "loss = tf.keras.losses.SparseCategoricalCrossentropy(from_logits=True)\n",
    "metric = tf.keras.metrics.SparseCategoricalAccuracy('accuracy')\n",
    "\n",
    "model.compile(optimizer=optimizer, loss=loss, metrics=[metric])\n",
    "\n",
    "# EarlyStopping callback\n",
    "early_stopping = tf.keras.callbacks.EarlyStopping(\n",
    "    monitor='val_loss', \n",
    "    patience=2, \n",
    "    restore_best_weights=True\n",
    ")\n",
    "\n",
    "# ReduceLROnPlateau callback\n",
    "reduce_lr = tf.keras.callbacks.ReduceLROnPlateau(\n",
    "    monitor='val_loss', \n",
    "    factor=0.5,       # reduce learning rate by half\n",
    "    patience=1,       # wait 1 epoch without improvement\n",
    "    min_lr=1e-7,      # lower bound on learning rate\n",
    "    verbose=1\n",
    ")\n",
    "\n",
    "# Train with callbacks\n",
    "history = model.fit(\n",
    "    train_dataset,\n",
    "    validation_data=val_dataset,\n",
    "    epochs=20,  # you can now set this higher; early stopping will control stopping\n",
    "    callbacks=[early_stopping, reduce_lr]\n",
    ")\n",
    "\n",
    "# Evaluate\n",
    "results = model.evaluate(val_dataset)\n",
    "print(f'Validation accuracy: {results[1]*100:.2f}%')\n",
    "\n",
    "# Save if needed\n",
    "model.save_pretrained('mental_health_bert')\n",
    "tokenizer.save_pretrained('mental_health_bert')"
   ]
  },
  {
   "cell_type": "code",
   "execution_count": 37,
   "id": "70417d77",
   "metadata": {
    "execution": {
     "iopub.execute_input": "2025-05-02T23:17:20.058243Z",
     "iopub.status.busy": "2025-05-02T23:17:20.057968Z",
     "iopub.status.idle": "2025-05-02T23:17:20.417381Z",
     "shell.execute_reply": "2025-05-02T23:17:20.416539Z"
    },
    "papermill": {
     "duration": 0.930228,
     "end_time": "2025-05-02T23:17:20.418647",
     "exception": false,
     "start_time": "2025-05-02T23:17:19.488419",
     "status": "completed"
    },
    "tags": []
   },
   "outputs": [
    {
     "data": {
      "image/png": "[encoded data removed]",
      "text/plain": [
       "<Figure size 640x480 with 1 Axes>"
      ]
     },
     "metadata": {},
     "output_type": "display_data"
    },
    {
     "data": {
      "image/png": "[encoded data removed]",
      "text/plain": [
       "<Figure size 640x480 with 1 Axes>"
      ]
     },
     "metadata": {},
     "output_type": "display_data"
    }
   ],
   "source": [
    "import matplotlib.pyplot as plt\n",
    "from tensorflow import keras\n",
    "\n",
    "plt.plot(history.history['loss'], label='Training Loss')\n",
    "plt.plot(history.history['val_loss'], label='Validation Loss')\n",
    "plt.title('Model Loss History')\n",
    "plt.ylabel('Loss')\n",
    "plt.xlabel('Epoch')\n",
    "plt.legend()\n",
    "plt.grid(True)\n",
    "plt.show()\n",
    "\n",
    "if 'accuracy' in history.history:\n",
    "    plt.plot(history.history['accuracy'], label='Training Accuracy')\n",
    "    plt.plot(history.history['val_accuracy'], label='Validation Accuracy')\n",
    "    plt.title('Model Accuracy History')\n",
    "    plt.ylabel('Accuracy')\n",
    "    plt.xlabel('Epoch')\n",
    "    plt.legend()\n",
    "    plt.grid(True)\n",
    "    plt.show()"
   ]
  },
  {
   "cell_type": "code",
   "execution_count": 38,
   "id": "68dfd34a",
   "metadata": {
    "execution": {
     "iopub.execute_input": "2025-05-02T23:17:21.498025Z",
     "iopub.status.busy": "2025-05-02T23:17:21.497760Z",
     "iopub.status.idle": "2025-05-02T23:17:21.839578Z",
     "shell.execute_reply": "2025-05-02T23:17:21.838747Z"
    },
    "papermill": {
     "duration": 0.907148,
     "end_time": "2025-05-02T23:17:21.840860",
     "exception": false,
     "start_time": "2025-05-02T23:17:20.933712",
     "status": "completed"
    },
    "tags": []
   },
   "outputs": [
    {
     "name": "stdout",
     "output_type": "stream",
     "text": [
      "Anxiety\n"
     ]
    }
   ],
   "source": [
    "def predict(text):\n",
    "    inputs = tokenizer(\n",
    "        text,\n",
    "        padding=True,\n",
    "        truncation=True,\n",
    "        max_length=128,\n",
    "        return_tensors='tf'\n",
    "    )\n",
    "    outputs = model(inputs)\n",
    "    probs = tf.nn.softmax(outputs.logits, axis=-1)\n",
    "    return class_names[tf.argmax(probs, axis=-1).numpy()[0]]\n",
    "\n",
    "print(predict(\"I feel constantly overwhelmed and anxious\"))"
   ]
  },
  {
   "cell_type": "code",
   "execution_count": 39,
   "id": "dcfef536",
   "metadata": {
    "execution": {
     "iopub.execute_input": "2025-05-02T23:17:22.924423Z",
     "iopub.status.busy": "2025-05-02T23:17:22.924145Z",
     "iopub.status.idle": "2025-05-02T23:19:12.498536Z",
     "shell.execute_reply": "2025-05-02T23:19:12.497627Z"
    },
    "papermill": {
     "duration": 110.146766,
     "end_time": "2025-05-02T23:19:12.499857",
     "exception": false,
     "start_time": "2025-05-02T23:17:22.353091",
     "status": "completed"
    },
    "tags": []
   },
   "outputs": [
    {
     "name": "stdout",
     "output_type": "stream",
     "text": [
      "733/733 [==============================] - 109s 144ms/step\n",
      "              precision    recall  f1-score   support\n",
      "\n",
      "     Anxiety       0.92      0.85      0.88      1450\n",
      "     Bipolar       0.88      0.87      0.87      1046\n",
      "  Depression       0.75      0.70      0.73      3012\n",
      "      Normal       0.94      0.93      0.94      3145\n",
      "      Stress       0.78      0.77      0.78       950\n",
      "    Suicidal       0.66      0.77      0.71      2121\n",
      "\n",
      "    accuracy                           0.82     11724\n",
      "   macro avg       0.82      0.82      0.82     11724\n",
      "weighted avg       0.82      0.82      0.82     11724\n",
      "\n"
     ]
    }
   ],
   "source": [
    "from sklearn.metrics import classification_report\n",
    "\n",
    "logits = model.predict(val_dataset).logits\n",
    "y_pred = tf.argmax(logits, axis=1).numpy()\n",
    "\n",
    "print(classification_report(y_val, y_pred, target_names=class_names))"
   ]
  }
 ],
 "metadata": {
  "kaggle": {
   "accelerator": "nvidiaTeslaT4",
   "dataSources": [
    {
     "datasetId": 5338273,
     "sourceId": 8870083,
     "sourceType": "datasetVersion"
    }
   ],
   "dockerImageVersionId": 31011,
   "isGpuEnabled": true,
   "isInternetEnabled": true,
   "language": "python",
   "sourceType": "notebook"
  },
  "kernelspec": {
   "display_name": "Python 3",
   "language": "python",
   "name": "python3"
  },
  "language_info": {
   "codemirror_mode": {
    "name": "ipython",
    "version": 3
   },
   "file_extension": ".py",
   "mimetype": "text/x-python",
   "name": "python",
   "nbconvert_exporter": "python",
   "pygments_lexer": "ipython3",
   "version": "3.8.10"
  },
  "papermill": {
   "default_parameters": {},
   "duration": 5729.757533,
   "end_time": "2025-05-02T23:19:16.068441",
   "environment_variables": {},
   "exception": null,
   "input_path": "__notebook__.ipynb",
   "output_path": "__notebook__.ipynb",
   "parameters": {},
   "start_time": "2025-05-02T21:43:46.310908",
   "version": "2.6.0"
  },
  "widgets": {
   "application/vnd.jupyter.widget-state+json": {
    "state": {
     "05639d2b28344cfab44941bab0e4f012": {
      "model_module": "@jupyter-widgets/base",
      "model_module_version": "2.0.0",
      "model_name": "LayoutModel",
      "state": {
       "_model_module": "@jupyter-widgets/base",
       "_model_module_version": "2.0.0",
       "_model_name": "LayoutModel",
       "_view_count": null,
       "_view_module": "@jupyter-widgets/base",
       "_view_module_version": "2.0.0",
       "_view_name": "LayoutView",
       "align_content": null,
       "align_items": null,
       "align_self": null,
       "border_bottom": null,
       "border_left": null,
       "border_right": null,
       "border_top": null,
       "bottom": null,
       "display": null,
       "flex": null,
       "flex_flow": null,
       "grid_area": null,
       "grid_auto_columns": null,
       "grid_auto_flow": null,
       "grid_auto_rows": null,
       "grid_column": null,
       "grid_gap": null,
       "grid_row": null,
       "grid_template_areas": null,
       "grid_template_columns": null,
       "grid_template_rows": null,
       "height": null,
       "justify_content": null,
       "justify_items": null,
       "left": null,
       "margin": null,
       "max_height": null,
       "max_width": null,
       "min_height": null,
       "min_width": null,
       "object_fit": null,
       "object_position": null,
       "order": null,
       "overflow": null,
       "padding": null,
       "right": null,
       "top": null,
       "visibility": null,
       "width": null
      }
     },
     "0980b18f387647809c053d546f3c28f6": {
      "model_module": "@jupyter-widgets/controls",
      "model_module_version": "2.0.0",
      "model_name": "ProgressStyleModel",
      "state": {
       "_model_module": "@jupyter-widgets/controls",
       "_model_module_version": "2.0.0",
       "_model_name": "ProgressStyleModel",
       "_view_count": null,
       "_view_module": "@jupyter-widgets/base",
       "_view_module_version": "2.0.0",
       "_view_name": "StyleView",
       "bar_color": null,
       "description_width": ""
      }
     },
     "0b45d564befe4498994d2eb68c0409d1": {
      "model_module": "@jupyter-widgets/base",
      "model_module_version": "2.0.0",
      "model_name": "LayoutModel",
      "state": {
       "_model_module": "@jupyter-widgets/base",
       "_model_module_version": "2.0.0",
       "_model_name": "LayoutModel",
       "_view_count": null,
       "_view_module": "@jupyter-widgets/base",
       "_view_module_version": "2.0.0",
       "_view_name": "LayoutView",
       "align_content": null,
       "align_items": null,
       "align_self": null,
       "border_bottom": null,
       "border_left": null,
       "border_right": null,
       "border_top": null,
       "bottom": null,
       "display": null,
       "flex": null,
       "flex_flow": null,
       "grid_area": null,
       "grid_auto_columns": null,
       "grid_auto_flow": null,
       "grid_auto_rows": null,
       "grid_column": null,
       "grid_gap": null,
       "grid_row": null,
       "grid_template_areas": null,
       "grid_template_columns": null,
       "grid_template_rows": null,
       "height": null,
       "justify_content": null,
       "justify_items": null,
       "left": null,
       "margin": null,
       "max_height": null,
       "max_width": null,
       "min_height": null,
       "min_width": null,
       "object_fit": null,
       "object_position": null,
       "order": null,
       "overflow": null,
       "padding": null,
       "right": null,
       "top": null,
       "visibility": null,
       "width": null
      }
     },
     "0d6db3cd3b41476e94f9aff3d833a86e": {
      "model_module": "@jupyter-widgets/controls",
      "model_module_version": "2.0.0",
      "model_name": "HBoxModel",
      "state": {
       "_dom_classes": [],
       "_model_module": "@jupyter-widgets/controls",
       "_model_module_version": "2.0.0",
       "_model_name": "HBoxModel",
       "_view_count": null,
       "_view_module": "@jupyter-widgets/controls",
       "_view_module_version": "2.0.0",
       "_view_name": "HBoxView",
       "box_style": "",
       "children": [
        "IPY_MODEL_9d72cdf953db421c820ebf28b53a5588",
        "IPY_MODEL_b90d40a011c64fba990e7ebece0e8cf4",
        "IPY_MODEL_bf20307044734581a32314effff147c4"
       ],
       "layout": "IPY_MODEL_a1d0023316414eafafff2501583d00e7",
       "tabbable": null,
       "tooltip": null
      }
     },
     "1d2019cbfd284adf8142dfefba367db0": {
      "model_module": "@jupyter-widgets/base",
      "model_module_version": "2.0.0",
      "model_name": "LayoutModel",
      "state": {
       "_model_module": "@jupyter-widgets/base",
       "_model_module_version": "2.0.0",
       "_model_name": "LayoutModel",
       "_view_count": null,
       "_view_module": "@jupyter-widgets/base",
       "_view_module_version": "2.0.0",
       "_view_name": "LayoutView",
       "align_content": null,
       "align_items": null,
       "align_self": null,
       "border_bottom": null,
       "border_left": null,
       "border_right": null,
       "border_top": null,
       "bottom": null,
       "display": null,
       "flex": null,
       "flex_flow": null,
       "grid_area": null,
       "grid_auto_columns": null,
       "grid_auto_flow": null,
       "grid_auto_rows": null,
       "grid_column": null,
       "grid_gap": null,
       "grid_row": null,
       "grid_template_areas": null,
       "grid_template_columns": null,
       "grid_template_rows": null,
       "height": null,
       "justify_content": null,
       "justify_items": null,
       "left": null,
       "margin": null,
       "max_height": null,
       "max_width": null,
       "min_height": null,
       "min_width": null,
       "object_fit": null,
       "object_position": null,
       "order": null,
       "overflow": null,
       "padding": null,
       "right": null,
       "top": null,
       "visibility": null,
       "width": null
      }
     },
     "20b2a44bad6e4866a0790b4aa8a75b14": {
      "model_module": "@jupyter-widgets/controls",
      "model_module_version": "2.0.0",
      "model_name": "HBoxModel",
      "state": {
       "_dom_classes": [],
       "_model_module": "@jupyter-widgets/controls",
       "_model_module_version": "2.0.0",
       "_model_name": "HBoxModel",
       "_view_count": null,
       "_view_module": "@jupyter-widgets/controls",
       "_view_module_version": "2.0.0",
       "_view_name": "HBoxView",
       "box_style": "",
       "children": [
        "IPY_MODEL_ef28cbcf384b4da6aeb7734b38ec8258",
        "IPY_MODEL_4a0cb3da3fdb4ad4bb8c792beeaec8bc",
        "IPY_MODEL_8b9d1fd9e1f84462adf5dc4372d67a9c"
       ],
       "layout": "IPY_MODEL_9fceb5bb3e2b4ad38518b59a57f526b7",
       "tabbable": null,
       "tooltip": null
      }
     },
     "22464479577d43389c5fc4a0730319c2": {
      "model_module": "@jupyter-widgets/controls",
      "model_module_version": "2.0.0",
      "model_name": "HBoxModel",
      "state": {
       "_dom_classes": [],
       "_model_module": "@jupyter-widgets/controls",
       "_model_module_version": "2.0.0",
       "_model_name": "HBoxModel",
       "_view_count": null,
       "_view_module": "@jupyter-widgets/controls",
       "_view_module_version": "2.0.0",
       "_view_name": "HBoxView",
       "box_style": "",
       "children": [
        "IPY_MODEL_ec74299b11574631a39b014e8c15ecc8",
        "IPY_MODEL_38387f4d8c7244d79600f6e54f657ed1",
        "IPY_MODEL_68a09b4e7cce45a98cf3398f24d93fdd"
       ],
       "layout": "IPY_MODEL_05639d2b28344cfab44941bab0e4f012",
       "tabbable": null,
       "tooltip": null
      }
     },
     "26e1f2e6e94642a09b13508ab305eb50": {
      "model_module": "@jupyter-widgets/base",
      "model_module_version": "2.0.0",
      "model_name": "LayoutModel",
      "state": {
       "_model_module": "@jupyter-widgets/base",
       "_model_module_version": "2.0.0",
       "_model_name": "LayoutModel",
       "_view_count": null,
       "_view_module": "@jupyter-widgets/base",
       "_view_module_version": "2.0.0",
       "_view_name": "LayoutView",
       "align_content": null,
       "align_items": null,
       "align_self": null,
       "border_bottom": null,
       "border_left": null,
       "border_right": null,
       "border_top": null,
       "bottom": null,
       "display": null,
       "flex": null,
       "flex_flow": null,
       "grid_area": null,
       "grid_auto_columns": null,
       "grid_auto_flow": null,
       "grid_auto_rows": null,
       "grid_column": null,
       "grid_gap": null,
       "grid_row": null,
       "grid_template_areas": null,
       "grid_template_columns": null,
       "grid_template_rows": null,
       "height": null,
       "justify_content": null,
       "justify_items": null,
       "left": null,
       "margin": null,
       "max_height": null,
       "max_width": null,
       "min_height": null,
       "min_width": null,
       "object_fit": null,
       "object_position": null,
       "order": null,
       "overflow": null,
       "padding": null,
       "right": null,
       "top": null,
       "visibility": null,
       "width": null
      }
     },
     "27e729eb15e14039bb20e87e56e4009f": {
      "model_module": "@jupyter-widgets/controls",
      "model_module_version": "2.0.0",
      "model_name": "HTMLModel",
      "state": {
       "_dom_classes": [],
       "_model_module": "@jupyter-widgets/controls",
       "_model_module_version": "2.0.0",
       "_model_name": "HTMLModel",
       "_view_count": null,
       "_view_module": "@jupyter-widgets/controls",
       "_view_module_version": "2.0.0",
       "_view_name": "HTMLView",
       "description": "",
       "description_allow_html": false,
       "layout": "IPY_MODEL_da0852b326234f7b999041a2756b6121",
       "placeholder": "​",
       "style": "IPY_MODEL_7aa257e0a2f142888c02d91914da442d",
       "tabbable": null,
       "tooltip": null,
       "value": "tokenizer_config.json: 100%"
      }
     },
     "2ab8f87de2ab4ed38ed8fb4d75d47dc3": {
      "model_module": "@jupyter-widgets/controls",
      "model_module_version": "2.0.0",
      "model_name": "ProgressStyleModel",
      "state": {
       "_model_module": "@jupyter-widgets/controls",
       "_model_module_version": "2.0.0",
       "_model_name": "ProgressStyleModel",
       "_view_count": null,
       "_view_module": "@jupyter-widgets/base",
       "_view_module_version": "2.0.0",
       "_view_name": "StyleView",
       "bar_color": null,
       "description_width": ""
      }
     },
     "2caf0e4e4a4f44d7a37672ddb8532c62": {
      "model_module": "@jupyter-widgets/base",
      "model_module_version": "2.0.0",
      "model_name": "LayoutModel",
      "state": {
       "_model_module": "@jupyter-widgets/base",
       "_model_module_version": "2.0.0",
       "_model_name": "LayoutModel",
       "_view_count": null,
       "_view_module": "@jupyter-widgets/base",
       "_view_module_version": "2.0.0",
       "_view_name": "LayoutView",
       "align_content": null,
       "align_items": null,
       "align_self": null,
       "border_bottom": null,
       "border_left": null,
       "border_right": null,
       "border_top": null,
       "bottom": null,
       "display": null,
       "flex": null,
       "flex_flow": null,
       "grid_area": null,
       "grid_auto_columns": null,
       "grid_auto_flow": null,
       "grid_auto_rows": null,
       "grid_column": null,
       "grid_gap": null,
       "grid_row": null,
       "grid_template_areas": null,
       "grid_template_columns": null,
       "grid_template_rows": null,
       "height": null,
       "justify_content": null,
       "justify_items": null,
       "left": null,
       "margin": null,
       "max_height": null,
       "max_width": null,
       "min_height": null,
       "min_width": null,
       "object_fit": null,
       "object_position": null,
       "order": null,
       "overflow": null,
       "padding": null,
       "right": null,
       "top": null,
       "visibility": null,
       "width": null
      }
     },
     "2eeca24f67114fc3835d017adc4a30d8": {
      "model_module": "@jupyter-widgets/controls",
      "model_module_version": "2.0.0",
      "model_name": "HTMLModel",
      "state": {
       "_dom_classes": [],
       "_model_module": "@jupyter-widgets/controls",
       "_model_module_version": "2.0.0",
       "_model_name": "HTMLModel",
       "_view_count": null,
       "_view_module": "@jupyter-widgets/controls",
       "_view_module_version": "2.0.0",
       "_view_name": "HTMLView",
       "description": "",
       "description_allow_html": false,
       "layout": "IPY_MODEL_3da71b521f4c450aa3fb89913f7ca9b6",
       "placeholder": "​",
       "style": "IPY_MODEL_738343b18b2f4c478848390dda3ccb04",
       "tabbable": null,
       "tooltip": null,
       "value": " 440M/440M [00:01&lt;00:00, 252MB/s]"
      }
     },
     "32ee6252231b442ab0bebbd3822c199a": {
      "model_module": "@jupyter-widgets/controls",
      "model_module_version": "2.0.0",
      "model_name": "HBoxModel",
      "state": {
       "_dom_classes": [],
       "_model_module": "@jupyter-widgets/controls",
       "_model_module_version": "2.0.0",
       "_model_name": "HBoxModel",
       "_view_count": null,
       "_view_module": "@jupyter-widgets/controls",
       "_view_module_version": "2.0.0",
       "_view_name": "HBoxView",
       "box_style": "",
       "children": [
        "IPY_MODEL_f17c4a0018884b34ada45f3bb97a917d",
        "IPY_MODEL_bcb5d6d0ef084348a44e96f4dce49380",
        "IPY_MODEL_2eeca24f67114fc3835d017adc4a30d8"
       ],
       "layout": "IPY_MODEL_aeee26444f7f42468e2eb7010fbdef24",
       "tabbable": null,
       "tooltip": null
      }
     },
     "337dd844478c423586e4ccf54553f216": {
      "model_module": "@jupyter-widgets/base",
      "model_module_version": "2.0.0",
      "model_name": "LayoutModel",
      "state": {
       "_model_module": "@jupyter-widgets/base",
       "_model_module_version": "2.0.0",
       "_model_name": "LayoutModel",
       "_view_count": null,
       "_view_module": "@jupyter-widgets/base",
       "_view_module_version": "2.0.0",
       "_view_name": "LayoutView",
       "align_content": null,
       "align_items": null,
       "align_self": null,
       "border_bottom": null,
       "border_left": null,
       "border_right": null,
       "border_top": null,
       "bottom": null,
       "display": null,
       "flex": null,
       "flex_flow": null,
       "grid_area": null,
       "grid_auto_columns": null,
       "grid_auto_flow": null,
       "grid_auto_rows": null,
       "grid_column": null,
       "grid_gap": null,
       "grid_row": null,
       "grid_template_areas": null,
       "grid_template_columns": null,
       "grid_template_rows": null,
       "height": null,
       "justify_content": null,
       "justify_items": null,
       "left": null,
       "margin": null,
       "max_height": null,
       "max_width": null,
       "min_height": null,
       "min_width": null,
       "object_fit": null,
       "object_position": null,
       "order": null,
       "overflow": null,
       "padding": null,
       "right": null,
       "top": null,
       "visibility": null,
       "width": null
      }
     },
     "38387f4d8c7244d79600f6e54f657ed1": {
      "model_module": "@jupyter-widgets/controls",
      "model_module_version": "2.0.0",
      "model_name": "FloatProgressModel",
      "state": {
       "_dom_classes": [],
       "_model_module": "@jupyter-widgets/controls",
       "_model_module_version": "2.0.0",
       "_model_name": "FloatProgressModel",
       "_view_count": null,
       "_view_module": "@jupyter-widgets/controls",
       "_view_module_version": "2.0.0",
       "_view_name": "ProgressView",
       "bar_style": "success",
       "description": "",
       "description_allow_html": false,
       "layout": "IPY_MODEL_c5b7d726c70b4f98bf11dff9e179b8fd",
       "max": 231508,
       "min": 0,
       "orientation": "horizontal",
       "style": "IPY_MODEL_f0b5d1aba34c4dbda76f08c1a3ecb4a3",
       "tabbable": null,
       "tooltip": null,
       "value": 231508
      }
     },
     "3c84d7bda9ed451b9d87b8efb5d21cae": {
      "model_module": "@jupyter-widgets/base",
      "model_module_version": "2.0.0",
      "model_name": "LayoutModel",
      "state": {
       "_model_module": "@jupyter-widgets/base",
       "_model_module_version": "2.0.0",
       "_model_name": "LayoutModel",
       "_view_count": null,
       "_view_module": "@jupyter-widgets/base",
       "_view_module_version": "2.0.0",
       "_view_name": "LayoutView",
       "align_content": null,
       "align_items": null,
       "align_self": null,
       "border_bottom": null,
       "border_left": null,
       "border_right": null,
       "border_top": null,
       "bottom": null,
       "display": null,
       "flex": null,
       "flex_flow": null,
       "grid_area": null,
       "grid_auto_columns": null,
       "grid_auto_flow": null,
       "grid_auto_rows": null,
       "grid_column": null,
       "grid_gap": null,
       "grid_row": null,
       "grid_template_areas": null,
       "grid_template_columns": null,
       "grid_template_rows": null,
       "height": null,
       "justify_content": null,
       "justify_items": null,
       "left": null,
       "margin": null,
       "max_height": null,
       "max_width": null,
       "min_height": null,
       "min_width": null,
       "object_fit": null,
       "object_position": null,
       "order": null,
       "overflow": null,
       "padding": null,
       "right": null,
       "top": null,
       "visibility": null,
       "width": null
      }
     },
     "3da71b521f4c450aa3fb89913f7ca9b6": {
      "model_module": "@jupyter-widgets/base",
      "model_module_version": "2.0.0",
      "model_name": "LayoutModel",
      "state": {
       "_model_module": "@jupyter-widgets/base",
       "_model_module_version": "2.0.0",
       "_model_name": "LayoutModel",
       "_view_count": null,
       "_view_module": "@jupyter-widgets/base",
       "_view_module_version": "2.0.0",
       "_view_name": "LayoutView",
       "align_content": null,
       "align_items": null,
       "align_self": null,
       "border_bottom": null,
       "border_left": null,
       "border_right": null,
       "border_top": null,
       "bottom": null,
       "display": null,
       "flex": null,
       "flex_flow": null,
       "grid_area": null,
       "grid_auto_columns": null,
       "grid_auto_flow": null,
       "grid_auto_rows": null,
       "grid_column": null,
       "grid_gap": null,
       "grid_row": null,
       "grid_template_areas": null,
       "grid_template_columns": null,
       "grid_template_rows": null,
       "height": null,
       "justify_content": null,
       "justify_items": null,
       "left": null,
       "margin": null,
       "max_height": null,
       "max_width": null,
       "min_height": null,
       "min_width": null,
       "object_fit": null,
       "object_position": null,
       "order": null,
       "overflow": null,
       "padding": null,
       "right": null,
       "top": null,
       "visibility": null,
       "width": null
      }
     },
     "4523546e6597409a8c32c4d30689ff5f": {
      "model_module": "@jupyter-widgets/controls",
      "model_module_version": "2.0.0",
      "model_name": "HTMLStyleModel",
      "state": {
       "_model_module": "@jupyter-widgets/controls",
       "_model_module_version": "2.0.0",
       "_model_name": "HTMLStyleModel",
       "_view_count": null,
       "_view_module": "@jupyter-widgets/base",
       "_view_module_version": "2.0.0",
       "_view_name": "StyleView",
       "background": null,
       "description_width": "",
       "font_size": null,
       "text_color": null
      }
     },
     "4a0cb3da3fdb4ad4bb8c792beeaec8bc": {
      "model_module": "@jupyter-widgets/controls",
      "model_module_version": "2.0.0",
      "model_name": "FloatProgressModel",
      "state": {
       "_dom_classes": [],
       "_model_module": "@jupyter-widgets/controls",
       "_model_module_version": "2.0.0",
       "_model_name": "FloatProgressModel",
       "_view_count": null,
       "_view_module": "@jupyter-widgets/controls",
       "_view_module_version": "2.0.0",
       "_view_name": "ProgressView",
       "bar_style": "success",
       "description": "",
       "description_allow_html": false,
       "layout": "IPY_MODEL_ad62cab3b1e440538b8bd8f85c041b77",
       "max": 570,
       "min": 0,
       "orientation": "horizontal",
       "style": "IPY_MODEL_81ec7cc605ce41428a52b6894271af2d",
       "tabbable": null,
       "tooltip": null,
       "value": 570
      }
     },
     "4dc8ac512c19422abaf72c89e7f6b093": {
      "model_module": "@jupyter-widgets/controls",
      "model_module_version": "2.0.0",
      "model_name": "HTMLStyleModel",
      "state": {
       "_model_module": "@jupyter-widgets/controls",
       "_model_module_version": "2.0.0",
       "_model_name": "HTMLStyleModel",
       "_view_count": null,
       "_view_module": "@jupyter-widgets/base",
       "_view_module_version": "2.0.0",
       "_view_name": "StyleView",
       "background": null,
       "description_width": "",
       "font_size": null,
       "text_color": null
      }
     },
     "4e387b81c3de4509a950be306d15835a": {
      "model_module": "@jupyter-widgets/base",
      "model_module_version": "2.0.0",
      "model_name": "LayoutModel",
      "state": {
       "_model_module": "@jupyter-widgets/base",
       "_model_module_version": "2.0.0",
       "_model_name": "LayoutModel",
       "_view_count": null,
       "_view_module": "@jupyter-widgets/base",
       "_view_module_version": "2.0.0",
       "_view_name": "LayoutView",
       "align_content": null,
       "align_items": null,
       "align_self": null,
       "border_bottom": null,
       "border_left": null,
       "border_right": null,
       "border_top": null,
       "bottom": null,
       "display": null,
       "flex": null,
       "flex_flow": null,
       "grid_area": null,
       "grid_auto_columns": null,
       "grid_auto_flow": null,
       "grid_auto_rows": null,
       "grid_column": null,
       "grid_gap": null,
       "grid_row": null,
       "grid_template_areas": null,
       "grid_template_columns": null,
       "grid_template_rows": null,
       "height": null,
       "justify_content": null,
       "justify_items": null,
       "left": null,
       "margin": null,
       "max_height": null,
       "max_width": null,
       "min_height": null,
       "min_width": null,
       "object_fit": null,
       "object_position": null,
       "order": null,
       "overflow": null,
       "padding": null,
       "right": null,
       "top": null,
       "visibility": null,
       "width": null
      }
     },
     "4fb1721e97954205b8d2c8d2f01ba8b5": {
      "model_module": "@jupyter-widgets/base",
      "model_module_version": "2.0.0",
      "model_name": "LayoutModel",
      "state": {
       "_model_module": "@jupyter-widgets/base",
       "_model_module_version": "2.0.0",
       "_model_name": "LayoutModel",
       "_view_count": null,
       "_view_module": "@jupyter-widgets/base",
       "_view_module_version": "2.0.0",
       "_view_name": "LayoutView",
       "align_content": null,
       "align_items": null,
       "align_self": null,
       "border_bottom": null,
       "border_left": null,
       "border_right": null,
       "border_top": null,
       "bottom": null,
       "display": null,
       "flex": null,
       "flex_flow": null,
       "grid_area": null,
       "grid_auto_columns": null,
       "grid_auto_flow": null,
       "grid_auto_rows": null,
       "grid_column": null,
       "grid_gap": null,
       "grid_row": null,
       "grid_template_areas": null,
       "grid_template_columns": null,
       "grid_template_rows": null,
       "height": null,
       "justify_content": null,
       "justify_items": null,
       "left": null,
       "margin": null,
       "max_height": null,
       "max_width": null,
       "min_height": null,
       "min_width": null,
       "object_fit": null,
       "object_position": null,
       "order": null,
       "overflow": null,
       "padding": null,
       "right": null,
       "top": null,
       "visibility": null,
       "width": null
      }
     },
     "68a09b4e7cce45a98cf3398f24d93fdd": {
      "model_module": "@jupyter-widgets/controls",
      "model_module_version": "2.0.0",
      "model_name": "HTMLModel",
      "state": {
       "_dom_classes": [],
       "_model_module": "@jupyter-widgets/controls",
       "_model_module_version": "2.0.0",
       "_model_name": "HTMLModel",
       "_view_count": null,
       "_view_module": "@jupyter-widgets/controls",
       "_view_module_version": "2.0.0",
       "_view_name": "HTMLView",
       "description": "",
       "description_allow_html": false,
       "layout": "IPY_MODEL_337dd844478c423586e4ccf54553f216",
       "placeholder": "​",
       "style": "IPY_MODEL_ce221dd8dff84cf79548f0b7c7362c02",
       "tabbable": null,
       "tooltip": null,
       "value": " 232k/232k [00:00&lt;00:00, 6.58MB/s]"
      }
     },
     "738343b18b2f4c478848390dda3ccb04": {
      "model_module": "@jupyter-widgets/controls",
      "model_module_version": "2.0.0",
      "model_name": "HTMLStyleModel",
      "state": {
       "_model_module": "@jupyter-widgets/controls",
       "_model_module_version": "2.0.0",
       "_model_name": "HTMLStyleModel",
       "_view_count": null,
       "_view_module": "@jupyter-widgets/base",
       "_view_module_version": "2.0.0",
       "_view_name": "StyleView",
       "background": null,
       "description_width": "",
       "font_size": null,
       "text_color": null
      }
     },
     "7aa257e0a2f142888c02d91914da442d": {
      "model_module": "@jupyter-widgets/controls",
      "model_module_version": "2.0.0",
      "model_name": "HTMLStyleModel",
      "state": {
       "_model_module": "@jupyter-widgets/controls",
       "_model_module_version": "2.0.0",
       "_model_name": "HTMLStyleModel",
       "_view_count": null,
       "_view_module": "@jupyter-widgets/base",
       "_view_module_version": "2.0.0",
       "_view_name": "StyleView",
       "background": null,
       "description_width": "",
       "font_size": null,
       "text_color": null
      }
     },
     "81ec7cc605ce41428a52b6894271af2d": {
      "model_module": "@jupyter-widgets/controls",
      "model_module_version": "2.0.0",
      "model_name": "ProgressStyleModel",
      "state": {
       "_model_module": "@jupyter-widgets/controls",
       "_model_module_version": "2.0.0",
       "_model_name": "ProgressStyleModel",
       "_view_count": null,
       "_view_module": "@jupyter-widgets/base",
       "_view_module_version": "2.0.0",
       "_view_name": "StyleView",
       "bar_color": null,
       "description_width": ""
      }
     },
     "8af9673e2146467ab3e20f6f1012b924": {
      "model_module": "@jupyter-widgets/controls",
      "model_module_version": "2.0.0",
      "model_name": "HTMLStyleModel",
      "state": {
       "_model_module": "@jupyter-widgets/controls",
       "_model_module_version": "2.0.0",
       "_model_name": "HTMLStyleModel",
       "_view_count": null,
       "_view_module": "@jupyter-widgets/base",
       "_view_module_version": "2.0.0",
       "_view_name": "StyleView",
       "background": null,
       "description_width": "",
       "font_size": null,
       "text_color": null
      }
     },
     "8b9d1fd9e1f84462adf5dc4372d67a9c": {
      "model_module": "@jupyter-widgets/controls",
      "model_module_version": "2.0.0",
      "model_name": "HTMLModel",
      "state": {
       "_dom_classes": [],
       "_model_module": "@jupyter-widgets/controls",
       "_model_module_version": "2.0.0",
       "_model_name": "HTMLModel",
       "_view_count": null,
       "_view_module": "@jupyter-widgets/controls",
       "_view_module_version": "2.0.0",
       "_view_name": "HTMLView",
       "description": "",
       "description_allow_html": false,
       "layout": "IPY_MODEL_3c84d7bda9ed451b9d87b8efb5d21cae",
       "placeholder": "​",
       "style": "IPY_MODEL_97ca91f47ade49858a3f299b02ebaf83",
       "tabbable": null,
       "tooltip": null,
       "value": " 570/570 [00:00&lt;00:00, 82.1kB/s]"
      }
     },
     "8d9a2cb2939b4730b41c53241e5de546": {
      "model_module": "@jupyter-widgets/base",
      "model_module_version": "2.0.0",
      "model_name": "LayoutModel",
      "state": {
       "_model_module": "@jupyter-widgets/base",
       "_model_module_version": "2.0.0",
       "_model_name": "LayoutModel",
       "_view_count": null,
       "_view_module": "@jupyter-widgets/base",
       "_view_module_version": "2.0.0",
       "_view_name": "LayoutView",
       "align_content": null,
       "align_items": null,
       "align_self": null,
       "border_bottom": null,
       "border_left": null,
       "border_right": null,
       "border_top": null,
       "bottom": null,
       "display": null,
       "flex": null,
       "flex_flow": null,
       "grid_area": null,
       "grid_auto_columns": null,
       "grid_auto_flow": null,
       "grid_auto_rows": null,
       "grid_column": null,
       "grid_gap": null,
       "grid_row": null,
       "grid_template_areas": null,
       "grid_template_columns": null,
       "grid_template_rows": null,
       "height": null,
       "justify_content": null,
       "justify_items": null,
       "left": null,
       "margin": null,
       "max_height": null,
       "max_width": null,
       "min_height": null,
       "min_width": null,
       "object_fit": null,
       "object_position": null,
       "order": null,
       "overflow": null,
       "padding": null,
       "right": null,
       "top": null,
       "visibility": null,
       "width": null
      }
     },
     "90a9dfb3971b446bbd98f5a2a8dd97fb": {
      "model_module": "@jupyter-widgets/controls",
      "model_module_version": "2.0.0",
      "model_name": "HTMLModel",
      "state": {
       "_dom_classes": [],
       "_model_module": "@jupyter-widgets/controls",
       "_model_module_version": "2.0.0",
       "_model_name": "HTMLModel",
       "_view_count": null,
       "_view_module": "@jupyter-widgets/controls",
       "_view_module_version": "2.0.0",
       "_view_name": "HTMLView",
       "description": "",
       "description_allow_html": false,
       "layout": "IPY_MODEL_26e1f2e6e94642a09b13508ab305eb50",
       "placeholder": "​",
       "style": "IPY_MODEL_e446f93976064c41bd70edb43b33f6b7",
       "tabbable": null,
       "tooltip": null,
       "value": " 48.0/48.0 [00:00&lt;00:00, 4.87kB/s]"
      }
     },
     "97ca91f47ade49858a3f299b02ebaf83": {
      "model_module": "@jupyter-widgets/controls",
      "model_module_version": "2.0.0",
      "model_name": "HTMLStyleModel",
      "state": {
       "_model_module": "@jupyter-widgets/controls",
       "_model_module_version": "2.0.0",
       "_model_name": "HTMLStyleModel",
       "_view_count": null,
       "_view_module": "@jupyter-widgets/base",
       "_view_module_version": "2.0.0",
       "_view_name": "StyleView",
       "background": null,
       "description_width": "",
       "font_size": null,
       "text_color": null
      }
     },
     "9d72cdf953db421c820ebf28b53a5588": {
      "model_module": "@jupyter-widgets/controls",
      "model_module_version": "2.0.0",
      "model_name": "HTMLModel",
      "state": {
       "_dom_classes": [],
       "_model_module": "@jupyter-widgets/controls",
       "_model_module_version": "2.0.0",
       "_model_name": "HTMLModel",
       "_view_count": null,
       "_view_module": "@jupyter-widgets/controls",
       "_view_module_version": "2.0.0",
       "_view_name": "HTMLView",
       "description": "",
       "description_allow_html": false,
       "layout": "IPY_MODEL_8d9a2cb2939b4730b41c53241e5de546",
       "placeholder": "​",
       "style": "IPY_MODEL_a39ffe53bd504757bfe187b78fb06679",
       "tabbable": null,
       "tooltip": null,
       "value": "tokenizer.json: 100%"
      }
     },
     "9fceb5bb3e2b4ad38518b59a57f526b7": {
      "model_module": "@jupyter-widgets/base",
      "model_module_version": "2.0.0",
      "model_name": "LayoutModel",
      "state": {
       "_model_module": "@jupyter-widgets/base",
       "_model_module_version": "2.0.0",
       "_model_name": "LayoutModel",
       "_view_count": null,
       "_view_module": "@jupyter-widgets/base",
       "_view_module_version": "2.0.0",
       "_view_name": "LayoutView",
       "align_content": null,
       "align_items": null,
       "align_self": null,
       "border_bottom": null,
       "border_left": null,
       "border_right": null,
       "border_top": null,
       "bottom": null,
       "display": null,
       "flex": null,
       "flex_flow": null,
       "grid_area": null,
       "grid_auto_columns": null,
       "grid_auto_flow": null,
       "grid_auto_rows": null,
       "grid_column": null,
       "grid_gap": null,
       "grid_row": null,
       "grid_template_areas": null,
       "grid_template_columns": null,
       "grid_template_rows": null,
       "height": null,
       "justify_content": null,
       "justify_items": null,
       "left": null,
       "margin": null,
       "max_height": null,
       "max_width": null,
       "min_height": null,
       "min_width": null,
       "object_fit": null,
       "object_position": null,
       "order": null,
       "overflow": null,
       "padding": null,
       "right": null,
       "top": null,
       "visibility": null,
       "width": null
      }
     },
     "a1d0023316414eafafff2501583d00e7": {
      "model_module": "@jupyter-widgets/base",
      "model_module_version": "2.0.0",
      "model_name": "LayoutModel",
      "state": {
       "_model_module": "@jupyter-widgets/base",
       "_model_module_version": "2.0.0",
       "_model_name": "LayoutModel",
       "_view_count": null,
       "_view_module": "@jupyter-widgets/base",
       "_view_module_version": "2.0.0",
       "_view_name": "LayoutView",
       "align_content": null,
       "align_items": null,
       "align_self": null,
       "border_bottom": null,
       "border_left": null,
       "border_right": null,
       "border_top": null,
       "bottom": null,
       "display": null,
       "flex": null,
       "flex_flow": null,
       "grid_area": null,
       "grid_auto_columns": null,
       "grid_auto_flow": null,
       "grid_auto_rows": null,
       "grid_column": null,
       "grid_gap": null,
       "grid_row": null,
       "grid_template_areas": null,
       "grid_template_columns": null,
       "grid_template_rows": null,
       "height": null,
       "justify_content": null,
       "justify_items": null,
       "left": null,
       "margin": null,
       "max_height": null,
       "max_width": null,
       "min_height": null,
       "min_width": null,
       "object_fit": null,
       "object_position": null,
       "order": null,
       "overflow": null,
       "padding": null,
       "right": null,
       "top": null,
       "visibility": null,
       "width": null
      }
     },
     "a39ffe53bd504757bfe187b78fb06679": {
      "model_module": "@jupyter-widgets/controls",
      "model_module_version": "2.0.0",
      "model_name": "HTMLStyleModel",
      "state": {
       "_model_module": "@jupyter-widgets/controls",
       "_model_module_version": "2.0.0",
       "_model_name": "HTMLStyleModel",
       "_view_count": null,
       "_view_module": "@jupyter-widgets/base",
       "_view_module_version": "2.0.0",
       "_view_name": "StyleView",
       "background": null,
       "description_width": "",
       "font_size": null,
       "text_color": null
      }
     },
     "ad62cab3b1e440538b8bd8f85c041b77": {
      "model_module": "@jupyter-widgets/base",
      "model_module_version": "2.0.0",
      "model_name": "LayoutModel",
      "state": {
       "_model_module": "@jupyter-widgets/base",
       "_model_module_version": "2.0.0",
       "_model_name": "LayoutModel",
       "_view_count": null,
       "_view_module": "@jupyter-widgets/base",
       "_view_module_version": "2.0.0",
       "_view_name": "LayoutView",
       "align_content": null,
       "align_items": null,
       "align_self": null,
       "border_bottom": null,
       "border_left": null,
       "border_right": null,
       "border_top": null,
       "bottom": null,
       "display": null,
       "flex": null,
       "flex_flow": null,
       "grid_area": null,
       "grid_auto_columns": null,
       "grid_auto_flow": null,
       "grid_auto_rows": null,
       "grid_column": null,
       "grid_gap": null,
       "grid_row": null,
       "grid_template_areas": null,
       "grid_template_columns": null,
       "grid_template_rows": null,
       "height": null,
       "justify_content": null,
       "justify_items": null,
       "left": null,
       "margin": null,
       "max_height": null,
       "max_width": null,
       "min_height": null,
       "min_width": null,
       "object_fit": null,
       "object_position": null,
       "order": null,
       "overflow": null,
       "padding": null,
       "right": null,
       "top": null,
       "visibility": null,
       "width": null
      }
     },
     "aeee26444f7f42468e2eb7010fbdef24": {
      "model_module": "@jupyter-widgets/base",
      "model_module_version": "2.0.0",
      "model_name": "LayoutModel",
      "state": {
       "_model_module": "@jupyter-widgets/base",
       "_model_module_version": "2.0.0",
       "_model_name": "LayoutModel",
       "_view_count": null,
       "_view_module": "@jupyter-widgets/base",
       "_view_module_version": "2.0.0",
       "_view_name": "LayoutView",
       "align_content": null,
       "align_items": null,
       "align_self": null,
       "border_bottom": null,
       "border_left": null,
       "border_right": null,
       "border_top": null,
       "bottom": null,
       "display": null,
       "flex": null,
       "flex_flow": null,
       "grid_area": null,
       "grid_auto_columns": null,
       "grid_auto_flow": null,
       "grid_auto_rows": null,
       "grid_column": null,
       "grid_gap": null,
       "grid_row": null,
       "grid_template_areas": null,
       "grid_template_columns": null,
       "grid_template_rows": null,
       "height": null,
       "justify_content": null,
       "justify_items": null,
       "left": null,
       "margin": null,
       "max_height": null,
       "max_width": null,
       "min_height": null,
       "min_width": null,
       "object_fit": null,
       "object_position": null,
       "order": null,
       "overflow": null,
       "padding": null,
       "right": null,
       "top": null,
       "visibility": null,
       "width": null
      }
     },
     "b4f68122f6af4d0790d6af925e3addb5": {
      "model_module": "@jupyter-widgets/controls",
      "model_module_version": "2.0.0",
      "model_name": "HBoxModel",
      "state": {
       "_dom_classes": [],
       "_model_module": "@jupyter-widgets/controls",
       "_model_module_version": "2.0.0",
       "_model_name": "HBoxModel",
       "_view_count": null,
       "_view_module": "@jupyter-widgets/controls",
       "_view_module_version": "2.0.0",
       "_view_name": "HBoxView",
       "box_style": "",
       "children": [
        "IPY_MODEL_27e729eb15e14039bb20e87e56e4009f",
        "IPY_MODEL_f3cc9160d30a4b399ca75a9030a3c45e",
        "IPY_MODEL_90a9dfb3971b446bbd98f5a2a8dd97fb"
       ],
       "layout": "IPY_MODEL_1d2019cbfd284adf8142dfefba367db0",
       "tabbable": null,
       "tooltip": null
      }
     },
     "b6c1358feb6245c690e4715ef2994223": {
      "model_module": "@jupyter-widgets/base",
      "model_module_version": "2.0.0",
      "model_name": "LayoutModel",
      "state": {
       "_model_module": "@jupyter-widgets/base",
       "_model_module_version": "2.0.0",
       "_model_name": "LayoutModel",
       "_view_count": null,
       "_view_module": "@jupyter-widgets/base",
       "_view_module_version": "2.0.0",
       "_view_name": "LayoutView",
       "align_content": null,
       "align_items": null,
       "align_self": null,
       "border_bottom": null,
       "border_left": null,
       "border_right": null,
       "border_top": null,
       "bottom": null,
       "display": null,
       "flex": null,
       "flex_flow": null,
       "grid_area": null,
       "grid_auto_columns": null,
       "grid_auto_flow": null,
       "grid_auto_rows": null,
       "grid_column": null,
       "grid_gap": null,
       "grid_row": null,
       "grid_template_areas": null,
       "grid_template_columns": null,
       "grid_template_rows": null,
       "height": null,
       "justify_content": null,
       "justify_items": null,
       "left": null,
       "margin": null,
       "max_height": null,
       "max_width": null,
       "min_height": null,
       "min_width": null,
       "object_fit": null,
       "object_position": null,
       "order": null,
       "overflow": null,
       "padding": null,
       "right": null,
       "top": null,
       "visibility": null,
       "width": null
      }
     },
     "b90d40a011c64fba990e7ebece0e8cf4": {
      "model_module": "@jupyter-widgets/controls",
      "model_module_version": "2.0.0",
      "model_name": "FloatProgressModel",
      "state": {
       "_dom_classes": [],
       "_model_module": "@jupyter-widgets/controls",
       "_model_module_version": "2.0.0",
       "_model_name": "FloatProgressModel",
       "_view_count": null,
       "_view_module": "@jupyter-widgets/controls",
       "_view_module_version": "2.0.0",
       "_view_name": "ProgressView",
       "bar_style": "success",
       "description": "",
       "description_allow_html": false,
       "layout": "IPY_MODEL_b6c1358feb6245c690e4715ef2994223",
       "max": 466062,
       "min": 0,
       "orientation": "horizontal",
       "style": "IPY_MODEL_0980b18f387647809c053d546f3c28f6",
       "tabbable": null,
       "tooltip": null,
       "value": 466062
      }
     },
     "bcb5d6d0ef084348a44e96f4dce49380": {
      "model_module": "@jupyter-widgets/controls",
      "model_module_version": "2.0.0",
      "model_name": "FloatProgressModel",
      "state": {
       "_dom_classes": [],
       "_model_module": "@jupyter-widgets/controls",
       "_model_module_version": "2.0.0",
       "_model_name": "FloatProgressModel",
       "_view_count": null,
       "_view_module": "@jupyter-widgets/controls",
       "_view_module_version": "2.0.0",
       "_view_name": "ProgressView",
       "bar_style": "success",
       "description": "",
       "description_allow_html": false,
       "layout": "IPY_MODEL_d6ed6611a5014da2b019824ba7fcc3a1",
       "max": 440449768,
       "min": 0,
       "orientation": "horizontal",
       "style": "IPY_MODEL_2ab8f87de2ab4ed38ed8fb4d75d47dc3",
       "tabbable": null,
       "tooltip": null,
       "value": 440449768
      }
     },
     "bf20307044734581a32314effff147c4": {
      "model_module": "@jupyter-widgets/controls",
      "model_module_version": "2.0.0",
      "model_name": "HTMLModel",
      "state": {
       "_dom_classes": [],
       "_model_module": "@jupyter-widgets/controls",
       "_model_module_version": "2.0.0",
       "_model_name": "HTMLModel",
       "_view_count": null,
       "_view_module": "@jupyter-widgets/controls",
       "_view_module_version": "2.0.0",
       "_view_name": "HTMLView",
       "description": "",
       "description_allow_html": false,
       "layout": "IPY_MODEL_2caf0e4e4a4f44d7a37672ddb8532c62",
       "placeholder": "​",
       "style": "IPY_MODEL_e6b8b64133f04de6b25872a279cd3ee3",
       "tabbable": null,
       "tooltip": null,
       "value": " 466k/466k [00:00&lt;00:00, 20.2MB/s]"
      }
     },
     "c265de0f0ff645818b1c7e0a72dabb7d": {
      "model_module": "@jupyter-widgets/base",
      "model_module_version": "2.0.0",
      "model_name": "LayoutModel",
      "state": {
       "_model_module": "@jupyter-widgets/base",
       "_model_module_version": "2.0.0",
       "_model_name": "LayoutModel",
       "_view_count": null,
       "_view_module": "@jupyter-widgets/base",
       "_view_module_version": "2.0.0",
       "_view_name": "LayoutView",
       "align_content": null,
       "align_items": null,
       "align_self": null,
       "border_bottom": null,
       "border_left": null,
       "border_right": null,
       "border_top": null,
       "bottom": null,
       "display": null,
       "flex": null,
       "flex_flow": null,
       "grid_area": null,
       "grid_auto_columns": null,
       "grid_auto_flow": null,
       "grid_auto_rows": null,
       "grid_column": null,
       "grid_gap": null,
       "grid_row": null,
       "grid_template_areas": null,
       "grid_template_columns": null,
       "grid_template_rows": null,
       "height": null,
       "justify_content": null,
       "justify_items": null,
       "left": null,
       "margin": null,
       "max_height": null,
       "max_width": null,
       "min_height": null,
       "min_width": null,
       "object_fit": null,
       "object_position": null,
       "order": null,
       "overflow": null,
       "padding": null,
       "right": null,
       "top": null,
       "visibility": null,
       "width": null
      }
     },
     "c5b7d726c70b4f98bf11dff9e179b8fd": {
      "model_module": "@jupyter-widgets/base",
      "model_module_version": "2.0.0",
      "model_name": "LayoutModel",
      "state": {
       "_model_module": "@jupyter-widgets/base",
       "_model_module_version": "2.0.0",
       "_model_name": "LayoutModel",
       "_view_count": null,
       "_view_module": "@jupyter-widgets/base",
       "_view_module_version": "2.0.0",
       "_view_name": "LayoutView",
       "align_content": null,
       "align_items": null,
       "align_self": null,
       "border_bottom": null,
       "border_left": null,
       "border_right": null,
       "border_top": null,
       "bottom": null,
       "display": null,
       "flex": null,
       "flex_flow": null,
       "grid_area": null,
       "grid_auto_columns": null,
       "grid_auto_flow": null,
       "grid_auto_rows": null,
       "grid_column": null,
       "grid_gap": null,
       "grid_row": null,
       "grid_template_areas": null,
       "grid_template_columns": null,
       "grid_template_rows": null,
       "height": null,
       "justify_content": null,
       "justify_items": null,
       "left": null,
       "margin": null,
       "max_height": null,
       "max_width": null,
       "min_height": null,
       "min_width": null,
       "object_fit": null,
       "object_position": null,
       "order": null,
       "overflow": null,
       "padding": null,
       "right": null,
       "top": null,
       "visibility": null,
       "width": null
      }
     },
     "ce221dd8dff84cf79548f0b7c7362c02": {
      "model_module": "@jupyter-widgets/controls",
      "model_module_version": "2.0.0",
      "model_name": "HTMLStyleModel",
      "state": {
       "_model_module": "@jupyter-widgets/controls",
       "_model_module_version": "2.0.0",
       "_model_name": "HTMLStyleModel",
       "_view_count": null,
       "_view_module": "@jupyter-widgets/base",
       "_view_module_version": "2.0.0",
       "_view_name": "StyleView",
       "background": null,
       "description_width": "",
       "font_size": null,
       "text_color": null
      }
     },
     "d112e44f303747f4bfbdf0116ed03d27": {
      "model_module": "@jupyter-widgets/controls",
      "model_module_version": "2.0.0",
      "model_name": "ProgressStyleModel",
      "state": {
       "_model_module": "@jupyter-widgets/controls",
       "_model_module_version": "2.0.0",
       "_model_name": "ProgressStyleModel",
       "_view_count": null,
       "_view_module": "@jupyter-widgets/base",
       "_view_module_version": "2.0.0",
       "_view_name": "StyleView",
       "bar_color": null,
       "description_width": ""
      }
     },
     "d6ed6611a5014da2b019824ba7fcc3a1": {
      "model_module": "@jupyter-widgets/base",
      "model_module_version": "2.0.0",
      "model_name": "LayoutModel",
      "state": {
       "_model_module": "@jupyter-widgets/base",
       "_model_module_version": "2.0.0",
       "_model_name": "LayoutModel",
       "_view_count": null,
       "_view_module": "@jupyter-widgets/base",
       "_view_module_version": "2.0.0",
       "_view_name": "LayoutView",
       "align_content": null,
       "align_items": null,
       "align_self": null,
       "border_bottom": null,
       "border_left": null,
       "border_right": null,
       "border_top": null,
       "bottom": null,
       "display": null,
       "flex": null,
       "flex_flow": null,
       "grid_area": null,
       "grid_auto_columns": null,
       "grid_auto_flow": null,
       "grid_auto_rows": null,
       "grid_column": null,
       "grid_gap": null,
       "grid_row": null,
       "grid_template_areas": null,
       "grid_template_columns": null,
       "grid_template_rows": null,
       "height": null,
       "justify_content": null,
       "justify_items": null,
       "left": null,
       "margin": null,
       "max_height": null,
       "max_width": null,
       "min_height": null,
       "min_width": null,
       "object_fit": null,
       "object_position": null,
       "order": null,
       "overflow": null,
       "padding": null,
       "right": null,
       "top": null,
       "visibility": null,
       "width": null
      }
     },
     "da0852b326234f7b999041a2756b6121": {
      "model_module": "@jupyter-widgets/base",
      "model_module_version": "2.0.0",
      "model_name": "LayoutModel",
      "state": {
       "_model_module": "@jupyter-widgets/base",
       "_model_module_version": "2.0.0",
       "_model_name": "LayoutModel",
       "_view_count": null,
       "_view_module": "@jupyter-widgets/base",
       "_view_module_version": "2.0.0",
       "_view_name": "LayoutView",
       "align_content": null,
       "align_items": null,
       "align_self": null,
       "border_bottom": null,
       "border_left": null,
       "border_right": null,
       "border_top": null,
       "bottom": null,
       "display": null,
       "flex": null,
       "flex_flow": null,
       "grid_area": null,
       "grid_auto_columns": null,
       "grid_auto_flow": null,
       "grid_auto_rows": null,
       "grid_column": null,
       "grid_gap": null,
       "grid_row": null,
       "grid_template_areas": null,
       "grid_template_columns": null,
       "grid_template_rows": null,
       "height": null,
       "justify_content": null,
       "justify_items": null,
       "left": null,
       "margin": null,
       "max_height": null,
       "max_width": null,
       "min_height": null,
       "min_width": null,
       "object_fit": null,
       "object_position": null,
       "order": null,
       "overflow": null,
       "padding": null,
       "right": null,
       "top": null,
       "visibility": null,
       "width": null
      }
     },
     "e446f93976064c41bd70edb43b33f6b7": {
      "model_module": "@jupyter-widgets/controls",
      "model_module_version": "2.0.0",
      "model_name": "HTMLStyleModel",
      "state": {
       "_model_module": "@jupyter-widgets/controls",
       "_model_module_version": "2.0.0",
       "_model_name": "HTMLStyleModel",
       "_view_count": null,
       "_view_module": "@jupyter-widgets/base",
       "_view_module_version": "2.0.0",
       "_view_name": "StyleView",
       "background": null,
       "description_width": "",
       "font_size": null,
       "text_color": null
      }
     },
     "e6b8b64133f04de6b25872a279cd3ee3": {
      "model_module": "@jupyter-widgets/controls",
      "model_module_version": "2.0.0",
      "model_name": "HTMLStyleModel",
      "state": {
       "_model_module": "@jupyter-widgets/controls",
       "_model_module_version": "2.0.0",
       "_model_name": "HTMLStyleModel",
       "_view_count": null,
       "_view_module": "@jupyter-widgets/base",
       "_view_module_version": "2.0.0",
       "_view_name": "StyleView",
       "background": null,
       "description_width": "",
       "font_size": null,
       "text_color": null
      }
     },
     "ec74299b11574631a39b014e8c15ecc8": {
      "model_module": "@jupyter-widgets/controls",
      "model_module_version": "2.0.0",
      "model_name": "HTMLModel",
      "state": {
       "_dom_classes": [],
       "_model_module": "@jupyter-widgets/controls",
       "_model_module_version": "2.0.0",
       "_model_name": "HTMLModel",
       "_view_count": null,
       "_view_module": "@jupyter-widgets/controls",
       "_view_module_version": "2.0.0",
       "_view_name": "HTMLView",
       "description": "",
       "description_allow_html": false,
       "layout": "IPY_MODEL_c265de0f0ff645818b1c7e0a72dabb7d",
       "placeholder": "​",
       "style": "IPY_MODEL_4523546e6597409a8c32c4d30689ff5f",
       "tabbable": null,
       "tooltip": null,
       "value": "vocab.txt: 100%"
      }
     },
     "ef28cbcf384b4da6aeb7734b38ec8258": {
      "model_module": "@jupyter-widgets/controls",
      "model_module_version": "2.0.0",
      "model_name": "HTMLModel",
      "state": {
       "_dom_classes": [],
       "_model_module": "@jupyter-widgets/controls",
       "_model_module_version": "2.0.0",
       "_model_name": "HTMLModel",
       "_view_count": null,
       "_view_module": "@jupyter-widgets/controls",
       "_view_module_version": "2.0.0",
       "_view_name": "HTMLView",
       "description": "",
       "description_allow_html": false,
       "layout": "IPY_MODEL_4fb1721e97954205b8d2c8d2f01ba8b5",
       "placeholder": "​",
       "style": "IPY_MODEL_8af9673e2146467ab3e20f6f1012b924",
       "tabbable": null,
       "tooltip": null,
       "value": "config.json: 100%"
      }
     },
     "f0b5d1aba34c4dbda76f08c1a3ecb4a3": {
      "model_module": "@jupyter-widgets/controls",
      "model_module_version": "2.0.0",
      "model_name": "ProgressStyleModel",
      "state": {
       "_model_module": "@jupyter-widgets/controls",
       "_model_module_version": "2.0.0",
       "_model_name": "ProgressStyleModel",
       "_view_count": null,
       "_view_module": "@jupyter-widgets/base",
       "_view_module_version": "2.0.0",
       "_view_name": "StyleView",
       "bar_color": null,
       "description_width": ""
      }
     },
     "f17c4a0018884b34ada45f3bb97a917d": {
      "model_module": "@jupyter-widgets/controls",
      "model_module_version": "2.0.0",
      "model_name": "HTMLModel",
      "state": {
       "_dom_classes": [],
       "_model_module": "@jupyter-widgets/controls",
       "_model_module_version": "2.0.0",
       "_model_name": "HTMLModel",
       "_view_count": null,
       "_view_module": "@jupyter-widgets/controls",
       "_view_module_version": "2.0.0",
       "_view_name": "HTMLView",
       "description": "",
       "description_allow_html": false,
       "layout": "IPY_MODEL_4e387b81c3de4509a950be306d15835a",
       "placeholder": "​",
       "style": "IPY_MODEL_4dc8ac512c19422abaf72c89e7f6b093",
       "tabbable": null,
       "tooltip": null,
       "value": "model.safetensors: 100%"
      }
     },
     "f3cc9160d30a4b399ca75a9030a3c45e": {
      "model_module": "@jupyter-widgets/controls",
      "model_module_version": "2.0.0",
      "model_name": "FloatProgressModel",
      "state": {
       "_dom_classes": [],
       "_model_module": "@jupyter-widgets/controls",
       "_model_module_version": "2.0.0",
       "_model_name": "FloatProgressModel",
       "_view_count": null,
       "_view_module": "@jupyter-widgets/controls",
       "_view_module_version": "2.0.0",
       "_view_name": "ProgressView",
       "bar_style": "success",
       "description": "",
       "description_allow_html": false,
       "layout": "IPY_MODEL_0b45d564befe4498994d2eb68c0409d1",
       "max": 48,
       "min": 0,
       "orientation": "horizontal",
       "style": "IPY_MODEL_d112e44f303747f4bfbdf0116ed03d27",
       "tabbable": null,
       "tooltip": null,
       "value": 48
      }
     }
    },
    "version_major": 2,
    "version_minor": 0
   }
  }
 },
 "nbformat": 4,
 "nbformat_minor": 5
}
